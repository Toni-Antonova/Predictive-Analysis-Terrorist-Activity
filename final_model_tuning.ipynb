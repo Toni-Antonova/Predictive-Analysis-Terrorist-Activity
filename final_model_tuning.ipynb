{
 "cells": [
  {
   "cell_type": "code",
   "execution_count": null,
   "metadata": {},
   "outputs": [],
   "source": [
    "import xgboost as xbg\n",
    "from xgboost import XGBClassifier\n",
    "\n",
    "import pandas as pd\n",
    "import numpy as np\n",
    "import matplotlib.pyplot as plt\n",
    "from IPython.display import Image\n",
    "import sys\n",
    "import os\n",
    "import os.path\n",
    "import pickle \n",
    "import patsy\n",
    "import statsmodels.api as sm\n",
    "import statsmodels.formula.api as smf\n",
    "\n",
    "import seaborn as sns\n",
    "from sklearn import metrics\n",
    "from sklearn.pipeline import make_pipeline\n",
    "from sklearn.cross_validation import train_test_split, KFold\n",
    "from sklearn.ensemble import GradientBoostingClassifier\n",
    "from sklearn.linear_model import LogisticRegression\n",
    "from sklearn.svm import SVC\n",
    "from sklearn.neighbors import KNeighborsClassifier\n",
    "from sklearn.metrics import roc_curve, auc, precision_recall_fscore_support\n",
    "from sklearn.model_selection import GridSearchCV\n",
    "from sklearn.metrics import classification_report\n",
    "\n",
    "%matplotlib inline"
   ]
  },
  {
   "cell_type": "markdown",
   "metadata": {},
   "source": [
    "## DATAFRAME"
   ]
  },
  {
   "cell_type": "code",
   "execution_count": null,
   "metadata": {
    "scrolled": false
   },
   "outputs": [],
   "source": [
    "df1 = pd.read_csv('/home/ubuntu/Notebooks/terror2.csv')\n",
    "df_num = df1.select_dtypes(include = ['number'])\n",
    "df_num = df_num.fillna(0)\n",
    "df_num = df_num.drop(['Unnamed: 0','Unnamed: 0.1','Unnamed: 0.1.1','eventid','reset_index',\n",
    "           'count_year_max','targetone','targettwo','targetoneone','targettwoone','targetonetwo','targettwotwo'], axis = 1)\n",
    "\n",
    "dX = df_num.drop(['t1_year_f1','t2_year_f1','t1_20_f1','t2_20_f1','t1_year_f2','t2_year_f2',\n",
    "                't1_20_f2', 't2_20_f2'], axis=1)\n",
    "\n",
    "X_train = dX[dX.iyear < 2010]\n",
    "X_test = dX[dX.iyear >= 2010]\n",
    "y_train = df_num[df_num.iyear < 2010]['t2_year_f2']\n",
    "y_test =  df_num[df_num.iyear >= 2010]['t2_year_f2']"
   ]
  },
  {
   "cell_type": "markdown",
   "metadata": {},
   "source": [
    "## EVALUATION FUNCTIONS"
   ]
  },
  {
   "cell_type": "code",
   "execution_count": 114,
   "metadata": {
    "collapsed": true
   },
   "outputs": [],
   "source": [
    "def r_curve(y_score):\n",
    "    fpr, tpr,_ = roc_curve(y_test, y_score, pos_label = 1)\n",
    "    roc_auc = auc(fpr, tpr)\n",
    "\n",
    "    print('Model: GBT')\n",
    "    print('AUC: ' + str(roc_auc))\n",
    "    print(\"\")\n",
    "\n",
    "    plt.plot(fpr, tpr)\n",
    "    plt.plot([0,1],[0,1], '--')\n",
    "    plt.xlabel('FPR')\n",
    "    plt.ylabel('TPR')\n",
    "    plt.title('GBT')\n",
    "    \n",
    "def pr_curve(y_test, digit_prec=2):\n",
    "    threshvec = np.unique(np.round(y_test,digit_prec))\n",
    "    numthresh = len(threshvec)\n",
    "    tpvec = np.zeros(numthresh)\n",
    "    fpvec = np.zeros(numthresh)\n",
    "    fnvec = np.zeros(numthresh)\n",
    "\n",
    "    for i in range(numthresh):\n",
    "        thresh = threshvec[i]\n",
    "        tpvec[i] = sum(y_test[y_test>=thresh])\n",
    "        fpvec[i] = sum(1-y_test[y_test>=thresh])\n",
    "        fnvec[i] = sum(y_test[y_test<thresh])\n",
    "    recallvec = tpvec/(tpvec + fnvec)\n",
    "    precisionvec = tpvec/(tpvec + fpvec)\n",
    "    plt.plot(precisionvec,recallvec)\n",
    "    plt.axis([0, 1, 0, 1])\n",
    "    plt.xlabel(\"Precision\")\n",
    "    plt.ylabel(\"Recall\")"
   ]
  },
  {
   "cell_type": "markdown",
   "metadata": {},
   "source": [
    "## ALL MODELS, BASE PERFORMANCE"
   ]
  },
  {
   "cell_type": "code",
   "execution_count": 8,
   "metadata": {},
   "outputs": [
    {
     "name": "stdout",
     "output_type": "stream",
     "text": [
      "gbc = 0.7154742901368936\n",
      "(0.27937649880095922, 0.04225607544432354, 0.07340894770006301, None)\n"
     ]
    }
   ],
   "source": [
    "est = GradientBoostingClassifier(n_estimators=500).fit(X_train, y_train)\n",
    "print( 'gbc = {0}'.format(est.score(X_test, y_test)))\n",
    "y_predict_est = est.predict(X_test)\n",
    "print (precision_recall_fscore_support(y_test,y_predict_est, average='binary'))\n",
    "y_score_est = est.predict_proba(X_test)[:,1]"
   ]
  },
  {
   "cell_type": "code",
   "execution_count": 9,
   "metadata": {},
   "outputs": [
    {
     "name": "stdout",
     "output_type": "stream",
     "text": [
      "gbc = 0.7333720311517439\n",
      "(1.0, 0.00036271309394269132, 0.00072516316171138497, None)\n"
     ]
    }
   ],
   "source": [
    "logr = LogisticRegression(penalty =  'l2', solver = 'liblinear').fit(X_train, y_train)\n",
    "print( 'gbc = {0}'.format(logr.score(X_test, y_test)))\n",
    "y_predict_logr = logr.predict(X_test)\n",
    "print (precision_recall_fscore_support(y_test,y_predict_logr, average='binary'))\n",
    "y_score_logr = logr.predict_proba(X_test)[:,1]"
   ]
  },
  {
   "cell_type": "code",
   "execution_count": 10,
   "metadata": {
    "collapsed": true
   },
   "outputs": [],
   "source": [
    "# svc = SVC().fit(X_train, y_train)\n",
    "# print( 'gbc = {0}'.format(svc.score(X_test, y_test)))\n",
    "# y_predict_svc = svc.predict(X_test)\n",
    "# print (precision_recall_fscore_support(y_test,y_predict_svc, average='binary'))\n",
    "# # y_score_svc = svc.predict_proba(X_test)[:,1]"
   ]
  },
  {
   "cell_type": "code",
   "execution_count": 11,
   "metadata": {},
   "outputs": [
    {
     "name": "stdout",
     "output_type": "stream",
     "text": [
      "gbc = 0.7022686596043148\n",
      "(0.38433778419343195, 0.19314472252448314, 0.25709112854556426, None)\n"
     ]
    }
   ],
   "source": [
    "knn = KNeighborsClassifier().fit(X_train, y_train)\n",
    "print( 'gbc = {0}'.format(knn.score(X_test, y_test)))\n",
    "y_predict_knn = knn.predict(X_test)\n",
    "print (precision_recall_fscore_support(y_test,y_predict_knn, average='binary'))\n",
    "y_score_knn = knn.predict_proba(X_test)[:,1]"
   ]
  },
  {
   "cell_type": "markdown",
   "metadata": {},
   "source": [
    "## GRAPHS OF RESULTS"
   ]
  },
  {
   "cell_type": "markdown",
   "metadata": {},
   "source": [
    "Gradient Boosted Trees"
   ]
  },
  {
   "cell_type": "code",
   "execution_count": 12,
   "metadata": {},
   "outputs": [
    {
     "name": "stdout",
     "output_type": "stream",
     "text": [
      "Model: GBT\n",
      "AUC: 0.499762881011\n",
      "\n"
     ]
    },
    {
     "name": "stderr",
     "output_type": "stream",
     "text": [
      "/home/ubuntu/anaconda3/lib/python3.6/site-packages/matplotlib/font_manager.py:1297: UserWarning: findfont: Font family ['sans-serif'] not found. Falling back to DejaVu Sans\n",
      "  (prop.get_family(), self.defaultFamily[fontext]))\n"
     ]
    },
    {
     "data": {
      "image/png": "[encoded data removed]",
      "text/plain": [
       "<matplotlib.figure.Figure at 0x7fd3e83bd748>"
      ]
     },
     "metadata": {},
     "output_type": "display_data"
    }
   ],
   "source": [
    "r_curve(y_score_est)"
   ]
  },
  {
   "cell_type": "code",
   "execution_count": 13,
   "metadata": {},
   "outputs": [
    {
     "name": "stderr",
     "output_type": "stream",
     "text": [
      "/home/ubuntu/anaconda3/lib/python3.6/site-packages/matplotlib/font_manager.py:1297: UserWarning: findfont: Font family ['sans-serif'] not found. Falling back to DejaVu Sans\n",
      "  (prop.get_family(), self.defaultFamily[fontext]))\n"
     ]
    },
    {
     "data": {
      "image/png": "[encoded data removed]",
      "text/plain": [
       "<matplotlib.figure.Figure at 0x7fd3ac252fd0>"
      ]
     },
     "metadata": {},
     "output_type": "display_data"
    }
   ],
   "source": [
    "pr_curve(y_score_est)"
   ]
  },
  {
   "cell_type": "markdown",
   "metadata": {},
   "source": [
    "Logistic Regression"
   ]
  },
  {
   "cell_type": "code",
   "execution_count": 14,
   "metadata": {},
   "outputs": [
    {
     "name": "stderr",
     "output_type": "stream",
     "text": [
      "/home/ubuntu/anaconda3/lib/python3.6/site-packages/matplotlib/font_manager.py:1297: UserWarning: findfont: Font family ['sans-serif'] not found. Falling back to DejaVu Sans\n",
      "  (prop.get_family(), self.defaultFamily[fontext]))\n"
     ]
    },
    {
     "name": "stdout",
     "output_type": "stream",
     "text": [
      "Model: GBT\n",
      "AUC: 0.668372810774\n",
      "\n"
     ]
    },
    {
     "data": {
      "image/png": "[encoded data removed]",
      "text/plain": [
       "<matplotlib.figure.Figure at 0x7fd394076a58>"
      ]
     },
     "metadata": {},
     "output_type": "display_data"
    }
   ],
   "source": [
    "r_curve(y_score_logr)"
   ]
  },
  {
   "cell_type": "code",
   "execution_count": 15,
   "metadata": {},
   "outputs": [
    {
     "name": "stderr",
     "output_type": "stream",
     "text": [
      "/home/ubuntu/anaconda3/lib/python3.6/site-packages/matplotlib/font_manager.py:1297: UserWarning: findfont: Font family ['sans-serif'] not found. Falling back to DejaVu Sans\n",
      "  (prop.get_family(), self.defaultFamily[fontext]))\n"
     ]
    },
    {
     "data": {
      "image/png": "[encoded data removed]",
      "text/plain": [
       "<matplotlib.figure.Figure at 0x7fd3abde5be0>"
      ]
     },
     "metadata": {},
     "output_type": "display_data"
    }
   ],
   "source": [
    "pr_curve(y_score_logr)"
   ]
  },
  {
   "cell_type": "markdown",
   "metadata": {},
   "source": [
    "K-Nearest Neighbors"
   ]
  },
  {
   "cell_type": "code",
   "execution_count": 16,
   "metadata": {},
   "outputs": [
    {
     "name": "stderr",
     "output_type": "stream",
     "text": [
      "/home/ubuntu/anaconda3/lib/python3.6/site-packages/matplotlib/font_manager.py:1297: UserWarning: findfont: Font family ['sans-serif'] not found. Falling back to DejaVu Sans\n",
      "  (prop.get_family(), self.defaultFamily[fontext]))\n"
     ]
    },
    {
     "name": "stdout",
     "output_type": "stream",
     "text": [
      "Model: GBT\n",
      "AUC: 0.542689409799\n",
      "\n"
     ]
    },
    {
     "data": {
      "image/png": "[encoded data removed]",
      "text/plain": [
       "<matplotlib.figure.Figure at 0x7fd38477f5f8>"
      ]
     },
     "metadata": {},
     "output_type": "display_data"
    }
   ],
   "source": [
    "r_curve(y_score_knn)"
   ]
  },
  {
   "cell_type": "code",
   "execution_count": 17,
   "metadata": {},
   "outputs": [
    {
     "name": "stderr",
     "output_type": "stream",
     "text": [
      "/home/ubuntu/anaconda3/lib/python3.6/site-packages/matplotlib/font_manager.py:1297: UserWarning: findfont: Font family ['sans-serif'] not found. Falling back to DejaVu Sans\n",
      "  (prop.get_family(), self.defaultFamily[fontext]))\n"
     ]
    },
    {
     "data": {
      "image/png": "[encoded data removed]",
      "text/plain": [
       "<matplotlib.figure.Figure at 0x7fd3ac276be0>"
      ]
     },
     "metadata": {},
     "output_type": "display_data"
    }
   ],
   "source": [
    "pr_curve(y_score_knn)"
   ]
  },
  {
   "cell_type": "markdown",
   "metadata": {},
   "source": [
    "## FEATURE IMPORTANCES"
   ]
  },
  {
   "cell_type": "markdown",
   "metadata": {},
   "source": [
    "Gradient Boosted Trees"
   ]
  },
  {
   "cell_type": "code",
   "execution_count": 18,
   "metadata": {},
   "outputs": [
    {
     "data": {
      "text/plain": [
       "[('current_year_count', 0.098639344839094922),\n",
       " ('iyear', 0.090464455659629184),\n",
       " ('tempone', 0.073781800834171934),\n",
       " ('temptwo', 0.071336505422881946),\n",
       " ('count_year_max_unbias', 0.069359150403919947),\n",
       " ('tempthree', 0.068639586568726055),\n",
       " ('diffone', 0.064541852467013522),\n",
       " ('difftwo', 0.058915171808899172),\n",
       " ('countone', 0.054163979080787614),\n",
       " ('counttwo', 0.049790292589771051),\n",
       " ('countfour', 0.041781446602836066),\n",
       " ('countthree', 0.03499153905820377),\n",
       " ('tempfour', 0.032496127267142266),\n",
       " ('ingroup', 0.025192875316526774),\n",
       " ('perpo', 0.022365039942355457),\n",
       " ('country', 0.021188685295259919),\n",
       " ('perpo_new', 0.020706952343970936),\n",
       " ('longitude', 0.015722867131978194),\n",
       " ('region', 0.0129032625744506),\n",
       " ('tempdiffone', 0.010033069307899123),\n",
       " ('tempdifffour', 0.0077042386460451405),\n",
       " ('latitude', 0.0075500137927642669),\n",
       " ('tempdiffthree', 0.00721363900033064),\n",
       " ('tempdifftwo', 0.006042226130341985),\n",
       " ('avgtempunc', 0.0037459471517044883),\n",
       " ('current_month_count', 0.0036204200385810924),\n",
       " ('t2_year', 0.0028188694486074701),\n",
       " ('natlty1', 0.002707836942371822),\n",
       " ('nreleased', 0.0025435257794676775),\n",
       " ('avgtemp', 0.0021381417805191702),\n",
       " ('targsubtype3', 0.0019869123802860361),\n",
       " ('month_alt', 0.0018165440021783036),\n",
       " ('ransomamt', 0.0013528074995659849),\n",
       " ('INT_LOG', 0.0011475365319739779),\n",
       " ('nkillter', 0.0011016924091777479),\n",
       " ('nkill', 0.00094713363574084025),\n",
       " ('iday', 0.00090471727581099164),\n",
       " ('propvalue', 0.00088962472364776453),\n",
       " ('nperps', 0.00088305303024476521),\n",
       " ('crit2', 0.00070423679802062366),\n",
       " ('nperpcap', 0.00062381889770362351),\n",
       " ('multiple', 0.00055676202172193266),\n",
       " ('specificity', 0.0005206515295823359),\n",
       " ('nwound', 0.00050550359324057919),\n",
       " ('ingroup3', 0.00045722456307818418),\n",
       " ('alternative', 0.00042710612075402187),\n",
       " ('imonth', 0.00035950457556347749),\n",
       " ('t2_20', 0.00035235808781659042),\n",
       " ('ransom', 0.00025506149905259548),\n",
       " ('targtype3', 0.00021447596792161129),\n",
       " ('INT_IDEO', 0.00021251278889241048),\n",
       " ('t1_year', 0.0002031090629513708),\n",
       " ('INT_MISC', 0.00013261738191477183),\n",
       " ('attacktype2', 8.923692156930829e-05),\n",
       " ('targsubtype2', 8.4413175045357772e-05),\n",
       " ('claimed', 7.2445749967812978e-05),\n",
       " ('claimmode', 5.4978029726044625e-05),\n",
       " ('targtype2', 3.1423440538682879e-05),\n",
       " ('targtype1', 7.5285326321998225e-06),\n",
       " ('INT_ANY', 2.6480017896329957e-06),\n",
       " ('targsubtype1', 1.8342193158731114e-06),\n",
       " ('property', 9.2583847309226e-07),\n",
       " ('weapsubtype1', 4.8236154331185686e-07),\n",
       " ('t1_20', 2.5612630598236874e-07),\n",
       " ('extended', 0.0),\n",
       " ('vicinity', 0.0),\n",
       " ('crit1', 0.0),\n",
       " ('crit3', 0.0),\n",
       " ('doubtterr', 0.0),\n",
       " ('success', 0.0),\n",
       " ('suicide', 0.0),\n",
       " ('attacktype1', 0.0),\n",
       " ('attacktype3', 0.0),\n",
       " ('natlty2', 0.0),\n",
       " ('natlty3', 0.0),\n",
       " ('ingroup2', 0.0),\n",
       " ('guncertain1', 0.0),\n",
       " ('guncertain2', 0.0),\n",
       " ('guncertain3', 0.0),\n",
       " ('claim2', 0.0),\n",
       " ('claimmode2', 0.0),\n",
       " ('claim3', 0.0),\n",
       " ('claimmode3', 0.0),\n",
       " ('compclaim', 0.0),\n",
       " ('weaptype1', 0.0),\n",
       " ('weaptype2', 0.0),\n",
       " ('weapsubtype2', 0.0),\n",
       " ('weaptype3', 0.0),\n",
       " ('weapsubtype3', 0.0),\n",
       " ('weaptype4', 0.0),\n",
       " ('weapsubtype4', 0.0),\n",
       " ('nkillus', 0.0),\n",
       " ('nwoundus', 0.0),\n",
       " ('nwoundte', 0.0),\n",
       " ('propextent', 0.0),\n",
       " ('ishostkid', 0.0),\n",
       " ('nhostkid', 0.0),\n",
       " ('nhostkidus', 0.0),\n",
       " ('nhours', 0.0),\n",
       " ('ndays', 0.0),\n",
       " ('ransomamtus', 0.0),\n",
       " ('ransompaid', 0.0),\n",
       " ('ransompaidus', 0.0),\n",
       " ('hostkidoutcome', 0.0)]"
      ]
     },
     "execution_count": 18,
     "metadata": {},
     "output_type": "execute_result"
    }
   ],
   "source": [
    "sorted(zip(X_train.columns,abs(est.feature_importances_)), key=lambda x: -x[1])"
   ]
  },
  {
   "cell_type": "markdown",
   "metadata": {},
   "source": [
    "Logistic Regression"
   ]
  },
  {
   "cell_type": "code",
   "execution_count": 19,
   "metadata": {
    "scrolled": false
   },
   "outputs": [
    {
     "data": {
      "text/plain": [
       "[('iyear', 0.00021059887864891146),\n",
       " ('ingroup', 5.7739788849397978e-05),\n",
       " ('count_year_max_unbias', 2.9331798576440134e-05),\n",
       " ('current_year_count', 2.1866377721609352e-05),\n",
       " ('country', 1.7726623159616644e-05),\n",
       " ('perpo', 1.7497124899890108e-05),\n",
       " ('perpo_new', 1.7496763060154895e-05),\n",
       " ('countone', 1.5839720902920067e-05),\n",
       " ('countthree', 1.4826277329314983e-05),\n",
       " ('counttwo', 1.4666506726190467e-05),\n",
       " ('natlty1', 1.4566787032096693e-05),\n",
       " ('countfour', 1.2240050569412686e-05),\n",
       " ('difftwo', 6.6397327867992275e-06),\n",
       " ('diffone', 5.5309325280073049e-06),\n",
       " ('longitude', 5.384627176728874e-06),\n",
       " ('ransomamtus', 4.9912813029380069e-06),\n",
       " ('targsubtype1', 4.5665306628506225e-06),\n",
       " ('current_month_count', 2.6884152818143961e-06),\n",
       " ('latitude', 2.5462727585368556e-06),\n",
       " ('avgtemp', 2.010469778099157e-06),\n",
       " ('tempone', 1.6473919181861281e-06),\n",
       " ('iday', 1.6270610209253053e-06),\n",
       " ('tempfour', 1.6086363514163717e-06),\n",
       " ('temptwo', 1.5961205055094592e-06),\n",
       " ('tempthree', 1.5532478358110567e-06),\n",
       " ('nperps', 1.0708798165441317e-06),\n",
       " ('weapsubtype1', 9.0266567628137668e-07),\n",
       " ('targtype1', 8.3351407876125284e-07),\n",
       " ('weaptype1', 6.6786820315666484e-07),\n",
       " ('month_alt', 6.639490156428918e-07),\n",
       " ('imonth', 6.6394872721471909e-07),\n",
       " ('region', 6.111746172042151e-07),\n",
       " ('ingroup3', 3.7926209090377942e-07),\n",
       " ('natlty2', 3.3605940667776259e-07),\n",
       " ('attacktype1', 3.184372070499469e-07),\n",
       " ('tempdiffthree', 2.6884897052150696e-07),\n",
       " ('tempdifftwo', 2.545167619375591e-07),\n",
       " ('tempdiffone', 2.5370846665709974e-07),\n",
       " ('nkill', 2.3981171158499556e-07),\n",
       " ('nwound', 2.3129563039674509e-07),\n",
       " ('tempdifffour', 2.1768649247533551e-07),\n",
       " ('specificity', 1.6250676701785695e-07),\n",
       " ('propvalue', 1.4870492619631559e-07),\n",
       " ('nperpcap', 1.388265663032497e-07),\n",
       " ('propextent', 1.0642400478037455e-07),\n",
       " ('crit1', 1.0582270467704515e-07),\n",
       " ('nhostkid', 1.0448787877879974e-07),\n",
       " ('crit2', 1.043434642354338e-07),\n",
       " ('ransompaidus', 1.0238474168586023e-07),\n",
       " ('property', 9.8637464982141466e-08),\n",
       " ('success', 9.7521150887021814e-08),\n",
       " ('ndays', 9.5164162513376422e-08),\n",
       " ('crit3', 8.962651812522478e-08),\n",
       " ('ingroup2', 8.3727659775890148e-08),\n",
       " ('targsubtype2', 8.1568154933806161e-08),\n",
       " ('nhours', 7.9938817604412784e-08),\n",
       " ('nreleased', 6.0636850363837365e-08),\n",
       " ('natlty3', 5.9019017621556379e-08),\n",
       " ('weapsubtype2', 5.8847338257408898e-08),\n",
       " ('t2_20', 5.7304620706407797e-08),\n",
       " ('t1_20', 5.6949214516078955e-08),\n",
       " ('t2_year', 5.2837166726300847e-08),\n",
       " ('t1_year', 5.0061201373694494e-08),\n",
       " ('doubtterr', 4.9011737613153513e-08),\n",
       " ('ransompaid', 4.6077863340278999e-08),\n",
       " ('weaptype2', 4.3230767203323278e-08),\n",
       " ('INT_ANY', 3.2250772736510747e-08),\n",
       " ('avgtempunc', 2.784609666549689e-08),\n",
       " ('alternative', 2.2186728005019065e-08),\n",
       " ('targsubtype3', 2.209706962212616e-08),\n",
       " ('claimmode', 2.1724026677917927e-08),\n",
       " ('INT_MISC', 1.939251855064066e-08),\n",
       " ('INT_IDEO', 1.9028986462679949e-08),\n",
       " ('multiple', 1.8303323486484799e-08),\n",
       " ('targtype2', 1.7223468554739478e-08),\n",
       " ('compclaim', 1.3974553816792118e-08),\n",
       " ('guncertain1', 1.1835051051309885e-08),\n",
       " ('weapsubtype3', 9.8450489864459878e-09),\n",
       " ('hostkidoutcome', 9.6171006469586331e-09),\n",
       " ('nkillus', 8.6703958078844222e-09),\n",
       " ('nhostkidus', 7.1609511860957587e-09),\n",
       " ('vicinity', 6.6823618508103502e-09),\n",
       " ('claimed', 6.2118928948801195e-09),\n",
       " ('weaptype3', 6.0271802930686115e-09),\n",
       " ('INT_LOG', 5.5144581914139937e-09),\n",
       " ('nwoundus', 4.6052481076767607e-09),\n",
       " ('ishostkid', 4.4254962471548834e-09),\n",
       " ('targtype3', 4.0136830352458287e-09),\n",
       " ('attacktype2', 3.2863342108634137e-09),\n",
       " ('extended', 2.2441657321102559e-09),\n",
       " ('claimmode2', 1.3198864959423836e-09),\n",
       " ('nkillter', 1.1560268079851622e-09),\n",
       " ('nwoundte', 9.209949360818354e-10),\n",
       " ('suicide', 8.6346108481857872e-10),\n",
       " ('ransom', 7.523161599888554e-10),\n",
       " ('weaptype4', 6.4509497854767479e-10),\n",
       " ('weapsubtype4', 5.191340693798209e-10),\n",
       " ('ransomamt', 4.8316519261682555e-10),\n",
       " ('claimmode3', 4.6277336115727854e-10),\n",
       " ('attacktype3', 1.7274125951680283e-10),\n",
       " ('guncertain3', 7.351521684199163e-11),\n",
       " ('claim3', 6.3728854022546456e-11),\n",
       " ('claim2', 5.2953747035076736e-11),\n",
       " ('guncertain2', 2.532516603971644e-11)]"
      ]
     },
     "execution_count": 19,
     "metadata": {},
     "output_type": "execute_result"
    }
   ],
   "source": [
    "sorted(zip(X_train.columns,abs(logr.coef_[0])), key=lambda x: -x[1])"
   ]
  },
  {
   "cell_type": "code",
   "execution_count": 20,
   "metadata": {
    "collapsed": true
   },
   "outputs": [],
   "source": [
    "# sorted(zip(X_train.columns,abs(knn.feature_importances_)), key=lambda x: -x[1])"
   ]
  },
  {
   "cell_type": "markdown",
   "metadata": {},
   "source": [
    "## DROPPING FEATURES"
   ]
  },
  {
   "cell_type": "code",
   "execution_count": 22,
   "metadata": {},
   "outputs": [
    {
     "data": {
      "text/plain": [
       "('current_year_count',\n",
       " 'iyear',\n",
       " 'tempone',\n",
       " 'temptwo',\n",
       " 'count_year_max_unbias',\n",
       " 'tempthree',\n",
       " 'diffone',\n",
       " 'difftwo',\n",
       " 'countone',\n",
       " 'counttwo',\n",
       " 'countfour',\n",
       " 'countthree',\n",
       " 'tempfour',\n",
       " 'ingroup',\n",
       " 'perpo',\n",
       " 'country',\n",
       " 'perpo_new',\n",
       " 'longitude',\n",
       " 'region',\n",
       " 'tempdiffone',\n",
       " 'tempdifffour',\n",
       " 'latitude',\n",
       " 'tempdiffthree',\n",
       " 'tempdifftwo',\n",
       " 'avgtempunc',\n",
       " 'current_month_count',\n",
       " 't2_year',\n",
       " 'natlty1',\n",
       " 'nreleased',\n",
       " 'avgtemp',\n",
       " 'targsubtype3',\n",
       " 'month_alt',\n",
       " 'ransomamt',\n",
       " 'INT_LOG',\n",
       " 'nkillter',\n",
       " 'nkill',\n",
       " 'iday',\n",
       " 'propvalue',\n",
       " 'nperps',\n",
       " 'crit2',\n",
       " 'nperpcap',\n",
       " 'multiple',\n",
       " 'specificity',\n",
       " 'nwound',\n",
       " 'ingroup3',\n",
       " 'alternative',\n",
       " 'imonth',\n",
       " 't2_20',\n",
       " 'ransom',\n",
       " 'targtype3',\n",
       " 'INT_IDEO',\n",
       " 't1_year',\n",
       " 'INT_MISC',\n",
       " 'attacktype2',\n",
       " 'targsubtype2',\n",
       " 'claimed',\n",
       " 'claimmode',\n",
       " 'targtype2',\n",
       " 'targtype1',\n",
       " 'INT_ANY',\n",
       " 'targsubtype1',\n",
       " 'property',\n",
       " 'weapsubtype1',\n",
       " 't1_20',\n",
       " 'extended',\n",
       " 'vicinity',\n",
       " 'crit1',\n",
       " 'crit3',\n",
       " 'doubtterr',\n",
       " 'success',\n",
       " 'suicide',\n",
       " 'attacktype1',\n",
       " 'attacktype3',\n",
       " 'natlty2',\n",
       " 'natlty3',\n",
       " 'ingroup2',\n",
       " 'guncertain1',\n",
       " 'guncertain2',\n",
       " 'guncertain3',\n",
       " 'claim2',\n",
       " 'claimmode2',\n",
       " 'claim3',\n",
       " 'claimmode3',\n",
       " 'compclaim',\n",
       " 'weaptype1',\n",
       " 'weaptype2',\n",
       " 'weapsubtype2',\n",
       " 'weaptype3',\n",
       " 'weapsubtype3',\n",
       " 'weaptype4',\n",
       " 'weapsubtype4',\n",
       " 'nkillus',\n",
       " 'nwoundus',\n",
       " 'nwoundte',\n",
       " 'propextent',\n",
       " 'ishostkid',\n",
       " 'nhostkid',\n",
       " 'nhostkidus',\n",
       " 'nhours',\n",
       " 'ndays',\n",
       " 'ransomamtus',\n",
       " 'ransompaid',\n",
       " 'ransompaidus',\n",
       " 'hostkidoutcome')"
      ]
     },
     "execution_count": 22,
     "metadata": {},
     "output_type": "execute_result"
    }
   ],
   "source": [
    "col = X_train.columns.tolist()\n",
    "[x for x in zip(*sorted(zip(X_train.columns,abs(est.feature_importances_)), key=lambda x: -x[1]))][0]"
   ]
  },
  {
   "cell_type": "code",
   "execution_count": 23,
   "metadata": {
    "collapsed": true
   },
   "outputs": [],
   "source": [
    "def dropping(df):\n",
    "    return df.drop(['targtype1',\n",
    " 'extended',\n",
    " 'vicinity',\n",
    " 'crit1',\n",
    " 'crit3',\n",
    " 'doubtterr',\n",
    " 'success',\n",
    " 'suicide',\n",
    " 'attacktype1',\n",
    " 'attacktype3',\n",
    " 'targtype2',\n",
    " 'targsubtype2',\n",
    " 'natlty3',\n",
    " 'ingroup2',\n",
    " 'guncertain1',\n",
    " 'guncertain2',\n",
    " 'guncertain3',\n",
    " 'claim2',\n",
    " 'claimmode2',\n",
    " 'claim3',\n",
    " 'claimmode3',\n",
    " 'compclaim',\n",
    " 'weaptype1',\n",
    " 'weaptype2',\n",
    " 'weapsubtype2',\n",
    " 'weaptype3',\n",
    " 'weapsubtype3',\n",
    " 'weaptype4',\n",
    " 'weapsubtype4',\n",
    " 'nkillus',\n",
    " 'nwoundus',\n",
    " 'nwoundte',\n",
    " 'property',\n",
    " 'propextent',\n",
    " 'nhostkidus',\n",
    " 'nhours',\n",
    " 'ndays',\n",
    " 'ransomamtus',\n",
    " 'ransompaid',\n",
    " 'ransompaidus'], axis = 1)\n",
    "\n",
    "X_train = dropping(X_train)\n",
    "X_test = dropping(X_test)"
   ]
  },
  {
   "cell_type": "markdown",
   "metadata": {},
   "source": [
    "# Running Models"
   ]
  },
  {
   "cell_type": "code",
   "execution_count": 25,
   "metadata": {},
   "outputs": [
    {
     "name": "stdout",
     "output_type": "stream",
     "text": [
      "gbc = 0.7198277947080733\n",
      "(0.31216216216216214, 0.041893362350380846, 0.073872721458266719, None)\n"
     ]
    }
   ],
   "source": [
    "est = GradientBoostingClassifier(n_estimators=500).fit(X_train, y_train)\n",
    "print( 'gbc = {0}'.format(est.score(X_test, y_test)))\n",
    "y_predict_est = est.predict(X_test)\n",
    "print (precision_recall_fscore_support(y_test,y_predict_est, average='binary'))\n",
    "y_score_est = est.predict_proba(X_test)[:,1]"
   ]
  },
  {
   "cell_type": "code",
   "execution_count": 26,
   "metadata": {},
   "outputs": [
    {
     "name": "stdout",
     "output_type": "stream",
     "text": [
      "gbc = 0.7311952788661539\n",
      "(0.12280701754385964, 0.0012694958287994198, 0.0025130138215760187, None)\n"
     ]
    }
   ],
   "source": [
    "logr = LogisticRegression(penalty =  'l2', solver = 'liblinear').fit(X_train, y_train)\n",
    "print( 'gbc = {0}'.format(logr.score(X_test, y_test)))\n",
    "y_predict_logr = logr.predict(X_test)\n",
    "print (precision_recall_fscore_support(y_test,y_predict_logr, average='binary'))\n",
    "y_score_logr = logr.predict_proba(X_test)[:,1]"
   ]
  },
  {
   "cell_type": "code",
   "execution_count": 27,
   "metadata": {
    "collapsed": true
   },
   "outputs": [],
   "source": [
    "# svc = SVC().fit(X_train, y_train)\n",
    "# print( 'gbc = {0}'.format(svc.score(X_test, y_test)))\n",
    "# y_predict_svc = svc.predict(X_test)\n",
    "# print (precision_recall_fscore_support(y_test,y_predict_svc, average='binary'))\n",
    "# # y_score_svc = svc.predict_proba(X_test)[:,1]"
   ]
  },
  {
   "cell_type": "code",
   "execution_count": 28,
   "metadata": {},
   "outputs": [
    {
     "name": "stdout",
     "output_type": "stream",
     "text": [
      "gbc = 0.7202147728921782\n",
      "(0.44560838033843675, 0.2005803409503083, 0.27663831915957976, None)\n"
     ]
    }
   ],
   "source": [
    "knn = KNeighborsClassifier().fit(X_train, y_train)\n",
    "print( 'gbc = {0}'.format(knn.score(X_test, y_test)))\n",
    "y_predict_knn = knn.predict(X_test)\n",
    "print (precision_recall_fscore_support(y_test,y_predict_knn, average='binary'))\n",
    "y_score_knn = knn.predict_proba(X_test)[:,1]"
   ]
  },
  {
   "cell_type": "markdown",
   "metadata": {},
   "source": [
    "# Dropping More Features"
   ]
  },
  {
   "cell_type": "code",
   "execution_count": 29,
   "metadata": {},
   "outputs": [
    {
     "data": {
      "text/plain": [
       "('current_year_count',\n",
       " 'iyear',\n",
       " 'tempone',\n",
       " 'temptwo',\n",
       " 'count_year_max_unbias',\n",
       " 'tempthree',\n",
       " 'diffone',\n",
       " 'difftwo',\n",
       " 'countone',\n",
       " 'counttwo',\n",
       " 'countfour',\n",
       " 'countthree',\n",
       " 'tempfour',\n",
       " 'ingroup',\n",
       " 'perpo_new',\n",
       " 'perpo',\n",
       " 'country',\n",
       " 'longitude',\n",
       " 'region',\n",
       " 'tempdiffone',\n",
       " 'tempdifffour',\n",
       " 'latitude',\n",
       " 'tempdiffthree',\n",
       " 'tempdifftwo',\n",
       " 'current_month_count',\n",
       " 'avgtempunc',\n",
       " 't2_year',\n",
       " 'natlty1',\n",
       " 'nreleased',\n",
       " 'avgtemp',\n",
       " 'targsubtype3',\n",
       " 'month_alt',\n",
       " 'ransomamt',\n",
       " 'INT_LOG',\n",
       " 'nkillter',\n",
       " 'propvalue',\n",
       " 'nperps',\n",
       " 'nkill',\n",
       " 'crit2',\n",
       " 'nperpcap',\n",
       " 't2_20',\n",
       " 'multiple',\n",
       " 'imonth',\n",
       " 'specificity',\n",
       " 'nwound',\n",
       " 'ingroup3',\n",
       " 'alternative',\n",
       " 'claimed',\n",
       " 'ransom',\n",
       " 'iday',\n",
       " 'INT_IDEO',\n",
       " 'targsubtype1',\n",
       " 'INT_MISC',\n",
       " 't1_year',\n",
       " 'attacktype2',\n",
       " 'claimmode',\n",
       " 'weapsubtype1',\n",
       " 'INT_ANY',\n",
       " 'targtype3',\n",
       " 'natlty2',\n",
       " 'ishostkid',\n",
       " 'nhostkid',\n",
       " 'hostkidoutcome',\n",
       " 't1_20')"
      ]
     },
     "execution_count": 29,
     "metadata": {},
     "output_type": "execute_result"
    }
   ],
   "source": [
    "[x for x in zip(*sorted(zip(X_train.columns,abs(est.feature_importances_)), key=lambda x: -x[1]))][0]"
   ]
  },
  {
   "cell_type": "code",
   "execution_count": 30,
   "metadata": {
    "collapsed": true
   },
   "outputs": [],
   "source": [
    "def dropping_two(df):\n",
    "    return df.drop(['nkillter',\n",
    " 'propvalue',\n",
    " 'nperps',\n",
    " 'nkill',\n",
    " 'crit2',\n",
    " 'nperpcap',\n",
    " 'iday',\n",
    " 'multiple',\n",
    " 'specificity',\n",
    " 't2_20',\n",
    " 'nwound',\n",
    " 'imonth',\n",
    " 'ingroup3',\n",
    " 'alternative',\n",
    " 'claimed',\n",
    " 'ransom',\n",
    " 'INT_IDEO',\n",
    " 'INT_MISC',\n",
    " 't1_year',\n",
    " 'attacktype2',\n",
    " 'targtype3',\n",
    " 'claimmode',\n",
    " 'targsubtype1',\n",
    " 'weapsubtype1',\n",
    " 't1_20',\n",
    " 'natlty2',\n",
    " 'ishostkid',\n",
    " 'nhostkid',\n",
    " 'hostkidoutcome',\n",
    " 'INT_ANY'], axis = 1)\n",
    "\n",
    "X_test = dropping_two(X_test)\n",
    "X_train = dropping_two(X_train)"
   ]
  },
  {
   "cell_type": "markdown",
   "metadata": {},
   "source": [
    "# Running Models"
   ]
  },
  {
   "cell_type": "code",
   "execution_count": 32,
   "metadata": {},
   "outputs": [
    {
     "name": "stdout",
     "output_type": "stream",
     "text": [
      "gbc = 0.7162482465051033\n",
      "(0.28795180722891567, 0.043344214726151617, 0.075346784363177807, None)\n"
     ]
    }
   ],
   "source": [
    "est = GradientBoostingClassifier(n_estimators=500).fit(X_train, y_train)\n",
    "print( 'gbc = {0}'.format(est.score(X_test, y_test)))\n",
    "y_predict_est = est.predict(X_test)\n",
    "print (precision_recall_fscore_support(y_test,y_predict_est, average='binary'))\n",
    "y_score_est = est.predict_proba(X_test)[:,1]"
   ]
  },
  {
   "cell_type": "code",
   "execution_count": 33,
   "metadata": {},
   "outputs": [
    {
     "name": "stdout",
     "output_type": "stream",
     "text": [
      "gbc = 0.7332752866057176\n",
      "(0.0, 0.0, 0.0, None)\n"
     ]
    },
    {
     "name": "stderr",
     "output_type": "stream",
     "text": [
      "/home/ubuntu/anaconda3/lib/python3.6/site-packages/sklearn/metrics/classification.py:1113: UndefinedMetricWarning: Precision and F-score are ill-defined and being set to 0.0 due to no predicted samples.\n",
      "  'precision', 'predicted', average, warn_for)\n"
     ]
    }
   ],
   "source": [
    "logr = LogisticRegression(penalty =  'l2', solver = 'liblinear').fit(X_train, y_train)\n",
    "print( 'gbc = {0}'.format(logr.score(X_test, y_test)))\n",
    "y_predict_logr = logr.predict(X_test)\n",
    "print (precision_recall_fscore_support(y_test,y_predict_logr, average='binary'))\n",
    "y_score_logr = logr.predict_proba(X_test)[:,1]"
   ]
  },
  {
   "cell_type": "code",
   "execution_count": 34,
   "metadata": {},
   "outputs": [
    {
     "name": "stdout",
     "output_type": "stream",
     "text": [
      "gbc = 0.7332752866057176\n",
      "(0.0, 0.0, 0.0, None)\n"
     ]
    },
    {
     "name": "stderr",
     "output_type": "stream",
     "text": [
      "/home/ubuntu/anaconda3/lib/python3.6/site-packages/sklearn/metrics/classification.py:1113: UndefinedMetricWarning: Precision and F-score are ill-defined and being set to 0.0 due to no predicted samples.\n",
      "  'precision', 'predicted', average, warn_for)\n"
     ]
    }
   ],
   "source": [
    "svc = SVC().fit(X_train, y_train)\n",
    "print( 'gbc = {0}'.format(svc.score(X_test, y_test)))\n",
    "y_predict_svc = svc.predict(X_test)\n",
    "print (precision_recall_fscore_support(y_test,y_predict_svc, average='binary'))\n",
    "# y_score_svc = svc.predict_proba(X_test)[:,1]"
   ]
  },
  {
   "cell_type": "code",
   "execution_count": 35,
   "metadata": {},
   "outputs": [
    {
     "name": "stdout",
     "output_type": "stream",
     "text": [
      "gbc = 0.7147003337686838\n",
      "(0.42059553349875928, 0.18443960826985853, 0.25642965204236007, None)\n"
     ]
    }
   ],
   "source": [
    "knn = KNeighborsClassifier().fit(X_train, y_train)\n",
    "print( 'gbc = {0}'.format(knn.score(X_test, y_test)))\n",
    "y_predict_knn = knn.predict(X_test)\n",
    "print (precision_recall_fscore_support(y_test,y_predict_knn, average='binary'))\n",
    "y_score_knn = knn.predict_proba(X_test)[:,1]"
   ]
  },
  {
   "cell_type": "markdown",
   "metadata": {},
   "source": [
    "## REMOVING DATA FROM BEFORE 1990"
   ]
  },
  {
   "cell_type": "code",
   "execution_count": 163,
   "metadata": {},
   "outputs": [
    {
     "data": {
      "text/plain": [
       "0.0    20118\n",
       "1.0     4102\n",
       "Name: t2_year_f2, dtype: int64"
      ]
     },
     "execution_count": 163,
     "metadata": {},
     "output_type": "execute_result"
    }
   ],
   "source": [
    "df = pd.read_csv('/home/ubuntu/Notebooks/terror2.csv')\n",
    "df_num = df.select_dtypes(include = ['number'])\n",
    "df_num = df_num.fillna(0)\n",
    "df_num = df_num.drop(['Unnamed: 0','eventid','reset_index',\n",
    "           'count_year_max','targetone','targettwo','targetoneone','targettwoone','targetonetwo','targettwotwo'], axis = 1)\n",
    "\n",
    "dX = df_num.drop(['t1_year_f1','t2_year_f1','t1_20_f1','t2_20_f1','t1_year_f2','t2_year_f2',\n",
    "                't1_20_f2', 't2_20_f2'], axis=1)\n",
    "\n",
    "X_train = dX[(dX.iyear <= 2010) & (dX.iyear >= 1990)]\n",
    "X_test = dX[dX.iyear > 2010]\n",
    "\n",
    "y_train = df_num[(df_num.iyear <= 2010) & (df_num.iyear >= 1990)]['t2_year_f2']\n",
    "y_test =  df_num[df_num.iyear > 2010]['t2_year_f2']\n",
    "\n",
    "y_train.value_counts()"
   ]
  },
  {
   "cell_type": "code",
   "execution_count": 11,
   "metadata": {
    "collapsed": true
   },
   "outputs": [],
   "source": [
    "def dropping(df):\n",
    "    return df.drop(['targtype1',\n",
    " 'extended',\n",
    " 'vicinity',\n",
    " 'crit1',\n",
    " 'crit3',\n",
    " 'doubtterr',\n",
    " 'success',\n",
    " 'suicide',\n",
    " 'attacktype1',\n",
    " 'attacktype3',\n",
    " 'targtype2',\n",
    " 'targsubtype2',\n",
    " 'natlty3',\n",
    " 'ingroup2',\n",
    " 'guncertain1',\n",
    " 'guncertain2',\n",
    " 'guncertain3',\n",
    " 'claim2',\n",
    " 'claimmode2',\n",
    " 'claim3',\n",
    " 'claimmode3',\n",
    " 'compclaim',\n",
    " 'weaptype1',\n",
    " 'weaptype2',\n",
    " 'weapsubtype2',\n",
    " 'weaptype3',\n",
    " 'weapsubtype3',\n",
    " 'weaptype4',\n",
    " 'weapsubtype4',\n",
    " 'nkillus',\n",
    " 'nwoundus',\n",
    " 'nwoundte',\n",
    " 'property',\n",
    " 'propextent',\n",
    " 'nhostkidus',\n",
    " 'nhours',\n",
    " 'ndays',\n",
    " 'ransomamtus',\n",
    " 'ransompaid',\n",
    " 'ransompaidus'], axis = 1)\n",
    "\n",
    "X_train = dropping(X_train)\n",
    "X_test = dropping(X_test)"
   ]
  },
  {
   "cell_type": "markdown",
   "metadata": {},
   "source": [
    "# Running Models"
   ]
  },
  {
   "cell_type": "code",
   "execution_count": 67,
   "metadata": {},
   "outputs": [
    {
     "name": "stdout",
     "output_type": "stream",
     "text": [
      "gbc = 0.7086281550322103\n",
      "(0.45220273738237809, 0.91457612456747406, 0.60518030910131659, None)\n"
     ]
    }
   ],
   "source": [
    "est = GradientBoostingClassifier(n_estimators=500).fit(X_train, y_train)\n",
    "print( 'gbc = {0}'.format(est.score(X_test, y_test)))\n",
    "y_predict_est = est.predict(X_test)\n",
    "print (precision_recall_fscore_support(y_test,y_predict_est, average='binary'))\n",
    "y_score_est = est.predict_proba(X_test)[:,1]"
   ]
  },
  {
   "cell_type": "code",
   "execution_count": 97,
   "metadata": {},
   "outputs": [
    {
     "name": "stdout",
     "output_type": "stream",
     "text": [
      "gbc = 0.6737247861442602\n",
      "(0.42202386922074014, 0.91003460207612452, 0.57663583418979103, None)\n"
     ]
    }
   ],
   "source": [
    "est = GradientBoostingClassifier(n_estimators=500).fit(X_train, y_train)\n",
    "print( 'gbc = {0}'.format(est.score(X_test, y_test)))\n",
    "y_predict_est = est.predict(X_test)\n",
    "print (precision_recall_fscore_support(y_test,y_predict_est, average='binary'))\n",
    "y_score_est = est.predict_proba(X_test)[:,1]"
   ]
  },
  {
   "cell_type": "code",
   "execution_count": 98,
   "metadata": {},
   "outputs": [
    {
     "name": "stdout",
     "output_type": "stream",
     "text": [
      "             precision    recall  f1-score   support\n",
      "\n",
      "    class 0       0.95      0.60      0.73     14314\n",
      "    class 1       0.42      0.91      0.58      4624\n",
      "\n",
      "avg / total       0.82      0.67      0.70     18938\n",
      "\n"
     ]
    }
   ],
   "source": [
    "target_names = ['class 0', 'class 1']\n",
    "print(classification_report(y_test, y_predict_est, target_names = target_names))"
   ]
  },
  {
   "cell_type": "code",
   "execution_count": 101,
   "metadata": {},
   "outputs": [
    {
     "name": "stdout",
     "output_type": "stream",
     "text": [
      "             precision    recall  f1-score   support\n",
      "\n",
      "    class 0       0.94      0.28      0.44     14314\n",
      "    class 1       0.30      0.94      0.45      4624\n",
      "\n",
      "avg / total       0.78      0.44      0.44     18938\n",
      "\n"
     ]
    }
   ],
   "source": [
    "# y_test_probabilities has shape = [n_samples, n_classes]\n",
    "y_test_probabilities = est.predict_proba(X_test)\n",
    "y_test_predictions_high_precision = y_test_probabilities[:,1] > 0.8\n",
    "y_test_predictions_high_recall = y_test_probabilities[:,1] > 0.1\n",
    "print(classification_report(y_test, y_test_predictions_high_recall, target_names = target_names))"
   ]
  },
  {
   "cell_type": "code",
   "execution_count": 68,
   "metadata": {},
   "outputs": [
    {
     "name": "stdout",
     "output_type": "stream",
     "text": [
      "gbc = 0.7047734713274897\n",
      "(0.10722989439480098, 0.028546712802768166, 0.045089666951323652, None)\n"
     ]
    }
   ],
   "source": [
    "logr = LogisticRegression(penalty =  'l2', solver = 'liblinear').fit(X_train, y_train)\n",
    "print( 'gbc = {0}'.format(logr.score(X_test, y_test)))\n",
    "y_predict_logr = logr.predict(X_test)\n",
    "print (precision_recall_fscore_support(y_test,y_predict_logr, average='binary'))\n",
    "y_score_logr = logr.predict_proba(X_test)[:,1]"
   ]
  },
  {
   "cell_type": "code",
   "execution_count": 18,
   "metadata": {},
   "outputs": [
    {
     "name": "stdout",
     "output_type": "stream",
     "text": [
      "gbc = 0.755834829443447\n",
      "(0.0, 0.0, 0.0, None)\n"
     ]
    },
    {
     "name": "stderr",
     "output_type": "stream",
     "text": [
      "/Users/toni/anaconda/lib/python3.6/site-packages/sklearn/metrics/classification.py:1113: UndefinedMetricWarning: Precision and F-score are ill-defined and being set to 0.0 due to no predicted samples.\n",
      "  'precision', 'predicted', average, warn_for)\n"
     ]
    }
   ],
   "source": [
    "svc = SVC(kernel = 'rbf').fit(X_train, y_train)\n",
    "print( 'gbc = {0}'.format(svc.score(X_test, y_test)))\n",
    "y_predict_svc = svc.predict(X_test)\n",
    "print (precision_recall_fscore_support(y_test,y_predict_svc, average='binary'))\n",
    "# y_score_svc = svc.predict_proba(X_test)[:,1]"
   ]
  },
  {
   "cell_type": "code",
   "execution_count": 70,
   "metadata": {},
   "outputs": [
    {
     "name": "stdout",
     "output_type": "stream",
     "text": [
      "gbc = 0.7634385890801563\n",
      "(0.52369980250164583, 0.34407439446366783, 0.41529626729313496, None)\n"
     ]
    }
   ],
   "source": [
    "knn = KNeighborsClassifier().fit(X_train, y_train)\n",
    "print( 'gbc = {0}'.format(knn.score(X_test, y_test)))\n",
    "y_predict_knn = knn.predict(X_test)\n",
    "print (precision_recall_fscore_support(y_test,y_predict_knn, average='binary'))\n",
    "y_score_knn = knn.predict_proba(X_test)[:,1]"
   ]
  },
  {
   "cell_type": "code",
   "execution_count": 125,
   "metadata": {},
   "outputs": [
    {
     "name": "stdout",
     "output_type": "stream",
     "text": [
      "gbc = 0.6729855317351358\n",
      "(0.42147933139825844, 0.91068339100346019, 0.57625726992815596, None)\n"
     ]
    }
   ],
   "source": [
    "est = GradientBoostingClassifier(n_estimators=500).fit(X_train, y_train)\n",
    "print( 'gbc = {0}'.format(est.score(X_test, y_test)))\n",
    "y_predict_est = est.predict(X_test)\n",
    "print (precision_recall_fscore_support(y_test,y_predict_est, average='binary'))\n",
    "y_score_est = est.predict_proba(X_test)[:,1]"
   ]
  },
  {
   "cell_type": "code",
   "execution_count": 127,
   "metadata": {},
   "outputs": [
    {
     "name": "stdout",
     "output_type": "stream",
     "text": [
      "             precision    recall  f1-score   support\n",
      "\n",
      "    class 0       0.95      0.60      0.73     14314\n",
      "    class 1       0.42      0.91      0.58      4624\n",
      "\n",
      "avg / total       0.82      0.67      0.70     18938\n",
      "\n"
     ]
    }
   ],
   "source": [
    "target_names = ['class 0', 'class 1']\n",
    "print(classification_report(y_test, y_predict_est, target_names = target_names))"
   ]
  },
  {
   "cell_type": "code",
   "execution_count": 129,
   "metadata": {},
   "outputs": [
    {
     "name": "stdout",
     "output_type": "stream",
     "text": [
      "             precision    recall  f1-score   support\n",
      "\n",
      "    class 0       0.93      0.27      0.42     14314\n",
      "    class 1       0.29      0.93      0.45      4624\n",
      "\n",
      "avg / total       0.77      0.43      0.43     18938\n",
      "\n"
     ]
    }
   ],
   "source": [
    "# y_test_probabilities has shape = [n_samples, n_classes]\n",
    "y_test_probabilities = est.predict_proba(X_test)\n",
    "y_test_predictions_high_precision = y_test_probabilities[:,1] > 0.8\n",
    "y_test_predictions_high_recall = y_test_probabilities[:,1] > 0.1\n",
    "\n",
    "target_names = ['class 0', 'class 1']\n",
    "print(classification_report(y_test, y_test_predictions_high_recall, target_names = target_names))"
   ]
  },
  {
   "cell_type": "code",
   "execution_count": 130,
   "metadata": {},
   "outputs": [
    {
     "name": "stdout",
     "output_type": "stream",
     "text": [
      "Model: GBT\n",
      "AUC: 0.753441457972\n",
      "\n"
     ]
    },
    {
     "name": "stderr",
     "output_type": "stream",
     "text": [
      "/home/ubuntu/anaconda3/lib/python3.6/site-packages/matplotlib/font_manager.py:1297: UserWarning: findfont: Font family ['sans-serif'] not found. Falling back to DejaVu Sans\n",
      "  (prop.get_family(), self.defaultFamily[fontext]))\n"
     ]
    },
    {
     "data": {
      "image/png": "[encoded data removed]",
      "text/plain": [
       "<matplotlib.figure.Figure at 0x7fe4042d64a8>"
      ]
     },
     "metadata": {},
     "output_type": "display_data"
    }
   ],
   "source": [
    "r_curve(y_predict_est)"
   ]
  },
  {
   "cell_type": "code",
   "execution_count": 131,
   "metadata": {},
   "outputs": [
    {
     "name": "stdout",
     "output_type": "stream",
     "text": [
      "Model: GBT\n",
      "AUC: 0.602904190879\n",
      "\n"
     ]
    },
    {
     "name": "stderr",
     "output_type": "stream",
     "text": [
      "/home/ubuntu/anaconda3/lib/python3.6/site-packages/matplotlib/font_manager.py:1297: UserWarning: findfont: Font family ['sans-serif'] not found. Falling back to DejaVu Sans\n",
      "  (prop.get_family(), self.defaultFamily[fontext]))\n"
     ]
    },
    {
     "data": {
      "image/png": "[encoded data removed]",
      "text/plain": [
       "<matplotlib.figure.Figure at 0x7fe404191ba8>"
      ]
     },
     "metadata": {},
     "output_type": "display_data"
    }
   ],
   "source": [
    "r_curve(y_test_predictions_high_recall)"
   ]
  },
  {
   "cell_type": "markdown",
   "metadata": {},
   "source": [
    "# GridSearchCV: XGBOOST & KNN"
   ]
  },
  {
   "cell_type": "code",
   "execution_count": null,
   "metadata": {},
   "outputs": [],
   "source": [
    "p_xgb = {'learning_rate':[.005,.05,.07,.1],'subsample':[.65,.75,.85],'n_estimators':[500,600,700,1500],'min_child_weight': [10, 12, 15, 20],'max_depth':[2,3,5]}\n",
    "xgbc = XGBClassifier(nthread = -1, objective='binary:logistic')\n",
    "xgbc_f1_grid = GridSearchCV(xgbc, p_xgb, scoring = 'roc_auc', verbose = 100)\n",
    "\n",
    "grid = xgbc_f1_grid.fit(X_train,y_train)"
   ]
  },
  {
   "cell_type": "code",
   "execution_count": 35,
   "metadata": {},
   "outputs": [
    {
     "data": {
      "text/plain": [
       "{'n_neighbors': 4, 'p': 1}"
      ]
     },
     "execution_count": 35,
     "metadata": {},
     "output_type": "execute_result"
    }
   ],
   "source": [
    "p_knn = {'n_neighbors':[4,5,6,7,8],'p':[1,2]}\n",
    "knn = KNeighborsClassifier(n_jobs=-1)\n",
    "knn_f1_grid = GridSearchCV(knn, p_knn, scoring = 'roc_auc')\n",
    "\n",
    "knngrid = knn_f1_grid.fit(X_train, y_train)\n",
    "knngrid.best_params_"
   ]
  },
  {
   "cell_type": "code",
   "execution_count": 179,
   "metadata": {},
   "outputs": [
    {
     "data": {
      "text/plain": [
       "KNeighborsClassifier(algorithm='auto', leaf_size=30, metric='minkowski',\n",
       "           metric_params=None, n_jobs=-1, n_neighbors=4, p=1,\n",
       "           weights='uniform')"
      ]
     },
     "execution_count": 179,
     "metadata": {},
     "output_type": "execute_result"
    }
   ],
   "source": [
    "knn = KNeighborsClassifier(n_jobs=-1, n_neighbors = 4, p = 1)\n",
    "knn.fit(X_train, y_train)"
   ]
  },
  {
   "cell_type": "code",
   "execution_count": 180,
   "metadata": {},
   "outputs": [
    {
     "data": {
      "text/plain": [
       "0.61183863132326544"
      ]
     },
     "execution_count": 180,
     "metadata": {},
     "output_type": "execute_result"
    }
   ],
   "source": [
    "knn.score(X_test, y_test)"
   ]
  },
  {
   "cell_type": "code",
   "execution_count": 181,
   "metadata": {},
   "outputs": [
    {
     "name": "stdout",
     "output_type": "stream",
     "text": [
      "(0.3757857338070511, 0.89208477508650519, 0.52881225562463952, None)\n"
     ]
    }
   ],
   "source": [
    "kpred = knn.predict(X_test)\n",
    "print (precision_recall_fscore_support(y_test,kpred, average='binary'))\n",
    "kp = knn.predict_proba(X_test)[:,1]"
   ]
  },
  {
   "cell_type": "code",
   "execution_count": 182,
   "metadata": {},
   "outputs": [
    {
     "name": "stdout",
     "output_type": "stream",
     "text": [
      "             precision    recall  f1-score   support\n",
      "\n",
      "    class 0       0.94      0.52      0.67     14314\n",
      "    class 1       0.38      0.89      0.53      4624\n",
      "\n",
      "avg / total       0.80      0.61      0.64     18938\n",
      "\n"
     ]
    }
   ],
   "source": [
    "target_names = ['class 0', 'class 1']\n",
    "print(classification_report(y_test, kpred, target_names = target_names))"
   ]
  },
  {
   "cell_type": "code",
   "execution_count": 183,
   "metadata": {},
   "outputs": [
    {
     "name": "stdout",
     "output_type": "stream",
     "text": [
      "Model: GBT\n",
      "AUC: 0.706696292811\n",
      "\n"
     ]
    },
    {
     "name": "stderr",
     "output_type": "stream",
     "text": [
      "/home/ubuntu/anaconda3/lib/python3.6/site-packages/matplotlib/font_manager.py:1297: UserWarning: findfont: Font family ['sans-serif'] not found. Falling back to DejaVu Sans\n",
      "  (prop.get_family(), self.defaultFamily[fontext]))\n"
     ]
    },
    {
     "data": {
      "image/png": "[encoded data removed]",
      "text/plain": [
       "<matplotlib.figure.Figure at 0x7fe4479370b8>"
      ]
     },
     "metadata": {},
     "output_type": "display_data"
    }
   ],
   "source": [
    "r_curve(kpred)"
   ]
  },
  {
   "cell_type": "code",
   "execution_count": 184,
   "metadata": {
    "collapsed": true
   },
   "outputs": [],
   "source": [
    "# y_test_probabilities has shape = [n_samples, n_classes]\n",
    "y_test_probabilities = knn.predict_proba(X_test)\n",
    "y_test_predictions_high_precision = y_test_probabilities[:,1] > 0.8\n",
    "y_test_predictions_high_recall = y_test_probabilities[:,1] > 0.1"
   ]
  },
  {
   "cell_type": "code",
   "execution_count": 185,
   "metadata": {},
   "outputs": [
    {
     "name": "stdout",
     "output_type": "stream",
     "text": [
      "             precision    recall  f1-score   support\n",
      "\n",
      "    class 0       0.97      0.39      0.56     14314\n",
      "    class 1       0.34      0.96      0.50      4624\n",
      "\n",
      "avg / total       0.81      0.53      0.54     18938\n",
      "\n"
     ]
    }
   ],
   "source": [
    "target_names = ['class 0', 'class 1']\n",
    "print(classification_report(y_test, y_test_predictions_high_recall, target_names = target_names))"
   ]
  },
  {
   "cell_type": "code",
   "execution_count": 234,
   "metadata": {},
   "outputs": [
    {
     "name": "stdout",
     "output_type": "stream",
     "text": [
      "Model: GBT\n",
      "AUC: 0.697114712869\n",
      "\n"
     ]
    },
    {
     "name": "stderr",
     "output_type": "stream",
     "text": [
      "/home/ubuntu/anaconda3/lib/python3.6/site-packages/matplotlib/font_manager.py:1297: UserWarning: findfont: Font family ['sans-serif'] not found. Falling back to DejaVu Sans\n",
      "  (prop.get_family(), self.defaultFamily[fontext]))\n"
     ]
    },
    {
     "data": {
      "image/png": "[encoded data removed]",
      "text/plain": [
       "<matplotlib.figure.Figure at 0x7fe45265c518>"
      ]
     },
     "metadata": {},
     "output_type": "display_data"
    }
   ],
   "source": [
    "r_curve(y_test_predictions_high_recall)"
   ]
  },
  {
   "cell_type": "markdown",
   "metadata": {},
   "source": [
    "# Normalizing DF"
   ]
  },
  {
   "cell_type": "code",
   "execution_count": 164,
   "metadata": {
    "collapsed": true
   },
   "outputs": [],
   "source": [
    "normalized_X_train = X_train.apply(lambda x: (x - x.min()) / (x.max() - x.min()))\n",
    "normalized_X_test = X_test.apply(lambda x: (x - x.min()) / (x.max() - x.min()))"
   ]
  },
  {
   "cell_type": "code",
   "execution_count": 54,
   "metadata": {},
   "outputs": [
    {
     "data": {
      "text/plain": [
       "{'n_neighbors': 8, 'p': 1}"
      ]
     },
     "execution_count": 54,
     "metadata": {},
     "output_type": "execute_result"
    }
   ],
   "source": [
    "p_knn = {'n_neighbors':[4,5,6,7,8],'p':[1,2]}\n",
    "knn = KNeighborsClassifier(n_jobs=-1)\n",
    "knn_f1_grid = GridSearchCV(knn, p_knn, scoring = 'roc_auc')\n",
    "knngrid = knn_f1_grid.fit(normalized_X_train, y_train)\n",
    "knngrid.best_params_"
   ]
  },
  {
   "cell_type": "code",
   "execution_count": 9,
   "metadata": {},
   "outputs": [
    {
     "data": {
      "text/plain": [
       "KNeighborsClassifier(algorithm='auto', leaf_size=30, metric='minkowski',\n",
       "           metric_params=None, n_jobs=-1, n_neighbors=8, p=1,\n",
       "           weights='uniform')"
      ]
     },
     "execution_count": 9,
     "metadata": {},
     "output_type": "execute_result"
    }
   ],
   "source": [
    "knn = KNeighborsClassifier(n_jobs=-1, n_neighbors = 8, p = 1)\n",
    "knn.fit(X_train, y_train)"
   ]
  },
  {
   "cell_type": "code",
   "execution_count": 10,
   "metadata": {},
   "outputs": [
    {
     "data": {
      "text/plain": [
       "0.60882880980040133"
      ]
     },
     "execution_count": 10,
     "metadata": {},
     "output_type": "execute_result"
    }
   ],
   "source": [
    "knn.score(X_test,y_test)"
   ]
  },
  {
   "cell_type": "code",
   "execution_count": 11,
   "metadata": {},
   "outputs": [
    {
     "name": "stdout",
     "output_type": "stream",
     "text": [
      "(0.37461718609259592, 0.89943771626297575, 0.52893297723515198, None)\n"
     ]
    }
   ],
   "source": [
    "kpred = knn.predict(X_test)\n",
    "print (precision_recall_fscore_support(y_test,kpred, average='binary'))\n",
    "kp = knn.predict_proba(X_test)[:,1]"
   ]
  },
  {
   "cell_type": "code",
   "execution_count": 15,
   "metadata": {},
   "outputs": [
    {
     "name": "stdout",
     "output_type": "stream",
     "text": [
      "             precision    recall  f1-score   support\n",
      "\n",
      "    class 0       0.94      0.51      0.67     14314\n",
      "    class 1       0.37      0.90      0.53      4624\n",
      "\n",
      "avg / total       0.80      0.61      0.63     18938\n",
      "\n"
     ]
    }
   ],
   "source": [
    "target_names = ['class 0', 'class 1']\n",
    "print(classification_report(y_test, kpred, target_names = target_names))"
   ]
  },
  {
   "cell_type": "code",
   "execution_count": 17,
   "metadata": {},
   "outputs": [
    {
     "name": "stdout",
     "output_type": "stream",
     "text": [
      "             precision    recall  f1-score   support\n",
      "\n",
      "    class 0       0.97      0.33      0.49     14314\n",
      "    class 1       0.32      0.97      0.48      4624\n",
      "\n",
      "avg / total       0.81      0.48      0.48     18938\n",
      "\n"
     ]
    }
   ],
   "source": [
    "y_test_probabilities = knn.predict_proba(X_test)\n",
    "y_test_predictions_high_precision = y_test_probabilities[:,1] > 0.8\n",
    "y_test_predictions_high_recall = y_test_probabilities[:,1] > 0.1\n",
    "\n",
    "target_names = ['class 0', 'class 1']\n",
    "print(classification_report(y_test, y_test_predictions_high_recall, target_names = target_names))"
   ]
  },
  {
   "cell_type": "code",
   "execution_count": 82,
   "metadata": {},
   "outputs": [
    {
     "data": {
      "text/plain": [
       "833"
      ]
     },
     "execution_count": 82,
     "metadata": {},
     "output_type": "execute_result"
    }
   ],
   "source": [
    "df = pd.DataFrame({'a': y_test, 'p': y_test_predictions_high_recall, 'info':X_test.iyear, 'perpo_new':X_test.perpo_new})\n",
    "\n",
    "def test(x):\n",
    "    c = 0\n",
    "    i = 0\n",
    "    if x['a']==1.0 and x['p']==True:\n",
    "        c+=1\n",
    "    elif x['a']==0.0 and x['p']==True: \n",
    "        i+=1\n",
    "    else:\n",
    "        pass\n",
    "    return c\n",
    "\n",
    "sum(df[df['info'] == 2011].apply(lambda x: test(x), axis = 1 ))"
   ]
  },
  {
   "cell_type": "code",
   "execution_count": 84,
   "metadata": {},
   "outputs": [
    {
     "data": {
      "text/plain": [
       "95     35\n",
       "209    35\n",
       "92     30\n",
       "97     15\n",
       "6       8\n",
       "167     7\n",
       "93      6\n",
       "205     6\n",
       "603     5\n",
       "75      5\n",
       "174     4\n",
       "155     3\n",
       "69      3\n",
       "98      2\n",
       "43      2\n",
       "34      2\n",
       "130     1\n",
       "198     1\n",
       "142     1\n",
       "63      1\n",
       "45      1\n",
       "217     1\n",
       "Name: perpo_new, dtype: int64"
      ]
     },
     "execution_count": 84,
     "metadata": {},
     "output_type": "execute_result"
    }
   ],
   "source": [
    "df['add'] = df[df['info'] == 2011].apply(lambda x: test(x), axis = 1 )\n",
    "df[df['add'] == 1].perpo_new.value_counts()"
   ]
  },
  {
   "cell_type": "code",
   "execution_count": 80,
   "metadata": {},
   "outputs": [
    {
     "data": {
      "text/plain": [
       "95     35\n",
       "209    35\n",
       "92     30\n",
       "97     15\n",
       "6       8\n",
       "167     7\n",
       "93      6\n",
       "205     6\n",
       "603     5\n",
       "75      5\n",
       "174     4\n",
       "155     3\n",
       "69      3\n",
       "98      2\n",
       "43      2\n",
       "34      2\n",
       "130     1\n",
       "198     1\n",
       "142     1\n",
       "63      1\n",
       "45      1\n",
       "217     1\n",
       "Name: perpo_new, dtype: int64"
      ]
     },
     "execution_count": 80,
     "metadata": {},
     "output_type": "execute_result"
    }
   ],
   "source": [
    "df[df['add'] == 1].perpo_new.value_counts()"
   ]
  },
  {
   "cell_type": "code",
   "execution_count": 193,
   "metadata": {},
   "outputs": [
    {
     "name": "stdout",
     "output_type": "stream",
     "text": [
      "Model: GBT\n",
      "AUC: 0.707194057237\n",
      "\n"
     ]
    },
    {
     "name": "stderr",
     "output_type": "stream",
     "text": [
      "/home/ubuntu/anaconda3/lib/python3.6/site-packages/matplotlib/font_manager.py:1297: UserWarning: findfont: Font family ['sans-serif'] not found. Falling back to DejaVu Sans\n",
      "  (prop.get_family(), self.defaultFamily[fontext]))\n"
     ]
    },
    {
     "data": {
      "image/png": "[encoded data removed]",
      "text/plain": [
       "<matplotlib.figure.Figure at 0x7fe45658aa90>"
      ]
     },
     "metadata": {},
     "output_type": "display_data"
    }
   ],
   "source": [
    "r_curve(kpred)"
   ]
  },
  {
   "cell_type": "code",
   "execution_count": 194,
   "metadata": {},
   "outputs": [
    {
     "name": "stdout",
     "output_type": "stream",
     "text": [
      "Model: GBT\n",
      "AUC: 0.645406800418\n",
      "\n"
     ]
    },
    {
     "name": "stderr",
     "output_type": "stream",
     "text": [
      "/home/ubuntu/anaconda3/lib/python3.6/site-packages/matplotlib/font_manager.py:1297: UserWarning: findfont: Font family ['sans-serif'] not found. Falling back to DejaVu Sans\n",
      "  (prop.get_family(), self.defaultFamily[fontext]))\n"
     ]
    },
    {
     "data": {
      "image/png": "[encoded data removed]",
      "text/plain": [
       "<matplotlib.figure.Figure at 0x7fe4478c2c50>"
      ]
     },
     "metadata": {},
     "output_type": "display_data"
    }
   ],
   "source": [
    "r_curve(y_test_predictions_high_recall)"
   ]
  },
  {
   "cell_type": "markdown",
   "metadata": {},
   "source": [
    "# More XGBOOST Evaluation"
   ]
  },
  {
   "cell_type": "code",
   "execution_count": 195,
   "metadata": {},
   "outputs": [
    {
     "data": {
      "text/plain": [
       "XGBClassifier(base_score=0.5, colsample_bylevel=1, colsample_bytree=1,\n",
       "       gamma=0, learning_rate=0.005, max_delta_step=0, max_depth=3,\n",
       "       min_child_weight=15, missing=None, n_estimators=700, nthread=-1,\n",
       "       objective='binary:logistic', reg_alpha=0, reg_lambda=1,\n",
       "       scale_pos_weight=1, seed=0, silent=True, subsample=0.75)"
      ]
     },
     "execution_count": 195,
     "metadata": {},
     "output_type": "execute_result"
    }
   ],
   "source": [
    "best_xgbc = XGBClassifier(learning_rate=0.005, max_depth=3,min_child_weight=15, n_estimators=700, subsample=0.75,nthread = -1, objective='binary:logistic')\n",
    "best_xgbc.fit(X_train,y_train)"
   ]
  },
  {
   "cell_type": "code",
   "execution_count": 196,
   "metadata": {},
   "outputs": [
    {
     "data": {
      "text/plain": [
       "0.75583482944344704"
      ]
     },
     "execution_count": 196,
     "metadata": {},
     "output_type": "execute_result"
    }
   ],
   "source": [
    "best_xgbc.score(X_test, y_test)"
   ]
  },
  {
   "cell_type": "code",
   "execution_count": 197,
   "metadata": {},
   "outputs": [
    {
     "name": "stdout",
     "output_type": "stream",
     "text": [
      "(0.5, 0.32417820069204151, 0.39333508265547101, None)\n"
     ]
    }
   ],
   "source": [
    "y_predict_bestx = best_xgbc.predict(X_test)\n",
    "print (precision_recall_fscore_support(y_test,y_predict_bestx, average='binary'))\n",
    "y_score_x = best_xgbc.predict_proba(X_test)[:,1]"
   ]
  },
  {
   "cell_type": "code",
   "execution_count": 198,
   "metadata": {},
   "outputs": [
    {
     "name": "stdout",
     "output_type": "stream",
     "text": [
      "             precision    recall  f1-score   support\n",
      "\n",
      "    class 0       0.80      0.90      0.85     14314\n",
      "    class 1       0.50      0.32      0.39      4624\n",
      "\n",
      "avg / total       0.73      0.76      0.74     18938\n",
      "\n"
     ]
    }
   ],
   "source": [
    "target_names = ['class 0', 'class 1']\n",
    "print(classification_report(y_test, y_predict_bestx, target_names = target_names))"
   ]
  },
  {
   "cell_type": "code",
   "execution_count": 200,
   "metadata": {},
   "outputs": [
    {
     "name": "stdout",
     "output_type": "stream",
     "text": [
      "             precision    recall  f1-score   support\n",
      "\n",
      "    class 0       0.96      0.43      0.59     14314\n",
      "    class 1       0.35      0.94      0.51      4624\n",
      "\n",
      "avg / total       0.81      0.55      0.57     18938\n",
      "\n"
     ]
    }
   ],
   "source": [
    "y_test_probabilities = best_xgbc.predict_proba(X_test)\n",
    "y_test_predictions_high_precision = y_test_probabilities[:,1] > 0.8\n",
    "y_test_predictions_high_recall = y_test_probabilities[:,1] > 0.1\n",
    "\n",
    "target_names = ['class 0', 'class 1']\n",
    "print(classification_report(y_test, y_test_predictions_high_recall, target_names = target_names))"
   ]
  },
  {
   "cell_type": "code",
   "execution_count": 201,
   "metadata": {},
   "outputs": [
    {
     "name": "stdout",
     "output_type": "stream",
     "text": [
      "Model: GBT\n",
      "AUC: 0.609727775769\n",
      "\n"
     ]
    },
    {
     "name": "stderr",
     "output_type": "stream",
     "text": [
      "/home/ubuntu/anaconda3/lib/python3.6/site-packages/matplotlib/font_manager.py:1297: UserWarning: findfont: Font family ['sans-serif'] not found. Falling back to DejaVu Sans\n",
      "  (prop.get_family(), self.defaultFamily[fontext]))\n"
     ]
    },
    {
     "data": {
      "image/png": "[encoded data removed]",
      "text/plain": [
       "<matplotlib.figure.Figure at 0x7fe40413f978>"
      ]
     },
     "metadata": {},
     "output_type": "display_data"
    }
   ],
   "source": [
    "r_curve(y_predict_bestx)"
   ]
  },
  {
   "cell_type": "code",
   "execution_count": 202,
   "metadata": {},
   "outputs": [
    {
     "name": "stdout",
     "output_type": "stream",
     "text": [
      "Model: GBT\n",
      "AUC: 0.684717604731\n",
      "\n"
     ]
    },
    {
     "name": "stderr",
     "output_type": "stream",
     "text": [
      "/home/ubuntu/anaconda3/lib/python3.6/site-packages/matplotlib/font_manager.py:1297: UserWarning: findfont: Font family ['sans-serif'] not found. Falling back to DejaVu Sans\n",
      "  (prop.get_family(), self.defaultFamily[fontext]))\n"
     ]
    },
    {
     "data": {
      "image/png": "[encoded data removed]",
      "text/plain": [
       "<matplotlib.figure.Figure at 0x7fe3ec1a3f28>"
      ]
     },
     "metadata": {},
     "output_type": "display_data"
    }
   ],
   "source": [
    "r_curve(y_test_predictions_high_recall)"
   ]
  },
  {
   "cell_type": "code",
   "execution_count": 204,
   "metadata": {},
   "outputs": [
    {
     "data": {
      "text/plain": [
       "XGBClassifier(base_score=0.5, colsample_bylevel=1, colsample_bytree=1,\n",
       "       gamma=0, learning_rate=0.005, max_delta_step=0, max_depth=3,\n",
       "       min_child_weight=12, missing=None, n_estimators=700, nthread=-1,\n",
       "       objective='binary:logistic', reg_alpha=0, reg_lambda=1,\n",
       "       scale_pos_weight=1, seed=0, silent=True, subsample=0.75)"
      ]
     },
     "execution_count": 204,
     "metadata": {},
     "output_type": "execute_result"
    }
   ],
   "source": [
    "best_xgbc = XGBClassifier(nthread = -1, objective='binary:logistic',learning_rate=0.005, max_depth=3, min_child_weight=12, n_estimators=700, subsample=0.75)\n",
    "best_xgbc.fit(X_train,y_train)"
   ]
  },
  {
   "cell_type": "code",
   "execution_count": 205,
   "metadata": {},
   "outputs": [
    {
     "data": {
      "text/plain": [
       "0.78931249339951426"
      ]
     },
     "execution_count": 205,
     "metadata": {},
     "output_type": "execute_result"
    }
   ],
   "source": [
    "best_xgbc.score(X_test, y_test)"
   ]
  },
  {
   "cell_type": "code",
   "execution_count": 206,
   "metadata": {},
   "outputs": [
    {
     "name": "stdout",
     "output_type": "stream",
     "text": [
      "(0.58761746821448313, 0.45977508650519033, 0.51589420043678724, None)\n"
     ]
    }
   ],
   "source": [
    "y_predict_bestx = best_xgbc.predict(X_test)\n",
    "print (precision_recall_fscore_support(y_test,y_predict_bestx, average='binary'))\n",
    "y_score_x = best_xgbc.predict_proba(X_test)[:,1]"
   ]
  },
  {
   "cell_type": "code",
   "execution_count": 207,
   "metadata": {},
   "outputs": [
    {
     "name": "stdout",
     "output_type": "stream",
     "text": [
      "             precision    recall  f1-score   support\n",
      "\n",
      "    class 0       0.84      0.90      0.87     14314\n",
      "    class 1       0.59      0.46      0.52      4624\n",
      "\n",
      "avg / total       0.78      0.79      0.78     18938\n",
      "\n"
     ]
    }
   ],
   "source": [
    "target_names = ['class 0', 'class 1']\n",
    "print(classification_report(y_test, y_predict_bestx, target_names = target_names))"
   ]
  },
  {
   "cell_type": "code",
   "execution_count": 209,
   "metadata": {},
   "outputs": [
    {
     "name": "stdout",
     "output_type": "stream",
     "text": [
      "             precision    recall  f1-score   support\n",
      "\n",
      "    class 0       0.96      0.45      0.62     14314\n",
      "    class 1       0.36      0.94      0.52      4624\n",
      "\n",
      "avg / total       0.81      0.57      0.59     18938\n",
      "\n"
     ]
    }
   ],
   "source": [
    "y_test_probabilities = best_xgbc.predict_proba(X_test)\n",
    "y_test_predictions_high_precision = y_test_probabilities[:,1] > 0.8\n",
    "y_test_predictions_high_recall = y_test_probabilities[:,1] > 0.1\n",
    "\n",
    "target_names = ['class 0', 'class 1']\n",
    "print(classification_report(y_test, y_test_predictions_high_recall, target_names = target_names))"
   ]
  },
  {
   "cell_type": "code",
   "execution_count": 210,
   "metadata": {},
   "outputs": [
    {
     "name": "stdout",
     "output_type": "stream",
     "text": [
      "Model: GBT\n",
      "AUC: 0.677770734534\n",
      "\n"
     ]
    },
    {
     "name": "stderr",
     "output_type": "stream",
     "text": [
      "/home/ubuntu/anaconda3/lib/python3.6/site-packages/matplotlib/font_manager.py:1297: UserWarning: findfont: Font family ['sans-serif'] not found. Falling back to DejaVu Sans\n",
      "  (prop.get_family(), self.defaultFamily[fontext]))\n"
     ]
    },
    {
     "data": {
      "image/png": "[encoded data removed]",
      "text/plain": [
       "<matplotlib.figure.Figure at 0x7fe452613630>"
      ]
     },
     "metadata": {},
     "output_type": "display_data"
    }
   ],
   "source": [
    "r_curve(y_predict_bestx)"
   ]
  },
  {
   "cell_type": "code",
   "execution_count": 211,
   "metadata": {},
   "outputs": [
    {
     "name": "stdout",
     "output_type": "stream",
     "text": [
      "Model: GBT\n",
      "AUC: 0.69729270603\n",
      "\n"
     ]
    },
    {
     "name": "stderr",
     "output_type": "stream",
     "text": [
      "/home/ubuntu/anaconda3/lib/python3.6/site-packages/matplotlib/font_manager.py:1297: UserWarning: findfont: Font family ['sans-serif'] not found. Falling back to DejaVu Sans\n",
      "  (prop.get_family(), self.defaultFamily[fontext]))\n"
     ]
    },
    {
     "data": {
      "image/png": "[encoded data removed]",
      "text/plain": [
       "<matplotlib.figure.Figure at 0x7fe456224898>"
      ]
     },
     "metadata": {},
     "output_type": "display_data"
    }
   ],
   "source": [
    "r_curve(y_test_predictions_high_recall)"
   ]
  }
 ],
 "metadata": {
  "kernelspec": {
   "display_name": "Python 3",
   "language": "python",
   "name": "python3"
  },
  "language_info": {
   "codemirror_mode": {
    "name": "ipython",
    "version": 3
   },
   "file_extension": ".py",
   "mimetype": "text/x-python",
   "name": "python",
   "nbconvert_exporter": "python",
   "pygments_lexer": "ipython3",
   "version": "3.6.0"
  }
 },
 "nbformat": 4,
 "nbformat_minor": 2
}
