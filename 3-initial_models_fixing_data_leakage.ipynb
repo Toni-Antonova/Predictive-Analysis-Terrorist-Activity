{
 "cells": [
  {
   "cell_type": "code",
   "execution_count": 51,
   "metadata": {
    "collapsed": true
   },
   "outputs": [],
   "source": [
    "import requests\n",
    "import pandas as pd\n",
    "import numpy as np\n",
    "import matplotlib.pyplot as plt\n",
    "from IPython.display import Image\n",
    "import sys\n",
    "import os\n",
    "import os.path\n",
    "\n",
    "import pickle \n",
    "import patsy\n",
    "import statsmodels.api as sm\n",
    "import statsmodels.formula.api as smf\n",
    "\n",
    "import seaborn as sns\n",
    "from sklearn import metrics\n",
    "from sklearn.preprocessing import PolynomialFeatures\n",
    "from sklearn.pipeline import make_pipeline\n",
    "from sklearn.cross_validation import train_test_split\n",
    "from sklearn.cross_validation import KFold\n",
    "\n",
    "from sklearn.model_selection import train_test_split\n",
    "from sklearn.ensemble import RandomForestRegressor, GradientBoostingRegressor\n",
    "from sklearn.linear_model import LinearRegression, LogisticRegression\n",
    "from sklearn.ensemble import GradientBoostingClassifier\n",
    "from sklearn.svm import SVC\n",
    "from sklearn.neighbors import KNeighborsClassifier\n",
    "\n",
    "from sklearn.metrics import precision_recall_fscore_support\n",
    "from sklearn.metrics import roc_curve, auc\n",
    "\n",
    "%matplotlib inline"
   ]
  },
  {
   "cell_type": "markdown",
   "metadata": {},
   "source": [
    "## BIASED"
   ]
  },
  {
   "cell_type": "code",
   "execution_count": 15,
   "metadata": {},
   "outputs": [
    {
     "data": {
      "text/plain": [
       "0.99217336007435308"
      ]
     },
     "execution_count": 15,
     "metadata": {},
     "output_type": "execute_result"
    }
   ],
   "source": [
    "df = pd.read_csv('/Users/toni/Desktop/metis/mcnulty/terrorsave.csv')\n",
    "df = df.select_dtypes(include = ['number'])\n",
    "df = df.fillna(0)\n",
    "df = df.drop(['Unnamed: 0','Unnamed: 0.1', ], axis = 1)\n",
    "\n",
    "X,y = df.drop(['targetoneone','targetonetwo','targettwotwo','targettwoone'], axis=1),df['targetoneone']\n",
    "X_train, X_test,y_train,y_test = train_test_split(X,y,test_size =0.3, random_state = 42)\n",
    "\n",
    "est = GradientBoostingClassifier(n_estimators=500).fit(X_train, y_train)\n",
    "est.score(X_test, y_test)"
   ]
  },
  {
   "cell_type": "code",
   "execution_count": 17,
   "metadata": {},
   "outputs": [
    {
     "data": {
      "text/plain": [
       "[('current_year_count', 0.14327795368479007),\n",
       " ('difftwo', 0.10603508147162095),\n",
       " ('countone', 0.099952415914172449),\n",
       " ('diffone', 0.087977624834012016),\n",
       " ('counttwo', 0.077222363361933027),\n",
       " ('countfour', 0.075353150604098709),\n",
       " ('countthree', 0.063961107043514431),\n",
       " ('count_year_max', 0.062270053787009116),\n",
       " ('reset_index', 0.051372302657122552),\n",
       " ('eventid', 0.025062559887714279),\n",
       " ('iyear', 0.023163696030024734),\n",
       " ('ingroup', 0.021507395872260953),\n",
       " ('latitude', 0.018331396206096501),\n",
       " ('perpo_new', 0.015713907773074135),\n",
       " ('perpo', 0.014313519180624717),\n",
       " ('avgtempunc', 0.012461171046966653),\n",
       " ('country', 0.012252183712985925),\n",
       " ('longitude', 0.011952989835032889),\n",
       " ('region', 0.011258556192148616),\n",
       " ('avgtemp', 0.0087537258453701857),\n",
       " ('current_month_count', 0.0058000821005041682),\n",
       " ('natlty1', 0.0042401169340174532),\n",
       " ('targettwo', 0.0039183784041077942),\n",
       " ('natlty2', 0.0037963615008662342),\n",
       " ('weapsubtype1', 0.0033077774270837061),\n",
       " ('targtype1', 0.0031609355444517998),\n",
       " ('month_alt', 0.0031055060785386869),\n",
       " ('imonth', 0.0027485890372244081),\n",
       " ('nwound', 0.0022880764622273029),\n",
       " ('targetone', 0.0022311519104301022),\n",
       " ('compclaim', 0.0015785031498254107),\n",
       " ('attacktype2', 0.0015370008781606752),\n",
       " ('INT_LOG', 0.0014861725401198551),\n",
       " ('nkillus', 0.0013587617656779494),\n",
       " ('propvalue', 0.0012358165902922528),\n",
       " ('nkill', 0.0012219381926943896),\n",
       " ('ransompaid', 0.0010992494383374532),\n",
       " ('nperpcap', 0.0010980657792197784),\n",
       " ('targsubtype1', 0.0010819725042669163),\n",
       " ('ransomamt', 0.0010117511741594232),\n",
       " ('targtype3', 0.0008697867468730069),\n",
       " ('suicide', 0.00077136197053108923),\n",
       " ('weapsubtype3', 0.00073309431147803434),\n",
       " ('weaptype1', 0.00069804894243167366),\n",
       " ('vicinity', 0.00068835902268819327),\n",
       " ('ransom', 0.0006694396917955311),\n",
       " ('specificity', 0.00062817754037308108),\n",
       " ('ndays', 0.00061399078089552253),\n",
       " ('targsubtype2', 0.00059955644695644506),\n",
       " ('attacktype1', 0.00057733141864050328),\n",
       " ('weapsubtype4', 0.00057514740340241187),\n",
       " ('weaptype4', 0.00046570150422503055),\n",
       " ('targsubtype3', 0.00035493754928313823),\n",
       " ('claim2', 0.00028717714936320399),\n",
       " ('nperps', 0.00027262628975341179),\n",
       " ('alternative', 0.00026983316067907294),\n",
       " ('nhostkid', 0.00023803370651698347),\n",
       " ('targtype2', 0.00022604473399435326),\n",
       " ('ingroup2', 0.00020916920397497901),\n",
       " ('nreleased', 0.00019516198229268519),\n",
       " ('weaptype3', 0.00015828099093079893),\n",
       " ('crit2', 0.00014379290953599031),\n",
       " ('multiple', 9.2836386572887528e-05),\n",
       " ('claimmode2', 5.3998679446824528e-05),\n",
       " ('crit3', 5.0078530615889332e-05),\n",
       " ('iday', 2.6135280077059638e-05),\n",
       " ('propextent', 1.0835763254916567e-05),\n",
       " ('doubtterr', 7.4113214884097595e-06),\n",
       " ('ishostkid', 5.8268209508375265e-06),\n",
       " ('guncertain1', 3.6000985773322176e-06),\n",
       " ('hostkidoutcome', 3.2857005850220894e-06),\n",
       " ('property', 1.575609036973677e-06),\n",
       " ('extended', 0.0),\n",
       " ('crit1', 0.0),\n",
       " ('success', 0.0),\n",
       " ('attacktype3', 0.0),\n",
       " ('natlty3', 0.0),\n",
       " ('ingroup3', 0.0),\n",
       " ('guncertain2', 0.0),\n",
       " ('guncertain3', 0.0),\n",
       " ('claimed', 0.0),\n",
       " ('claimmode', 0.0),\n",
       " ('claim3', 0.0),\n",
       " ('claimmode3', 0.0),\n",
       " ('weaptype2', 0.0),\n",
       " ('weapsubtype2', 0.0),\n",
       " ('nkillter', 0.0),\n",
       " ('nwoundus', 0.0),\n",
       " ('nwoundte', 0.0),\n",
       " ('nhostkidus', 0.0),\n",
       " ('nhours', 0.0),\n",
       " ('ransomamtus', 0.0),\n",
       " ('ransompaidus', 0.0),\n",
       " ('INT_IDEO', 0.0),\n",
       " ('INT_MISC', 0.0),\n",
       " ('INT_ANY', 0.0)]"
      ]
     },
     "execution_count": 17,
     "metadata": {},
     "output_type": "execute_result"
    }
   ],
   "source": [
    "sorted(zip(X.columns,abs(est.feature_importances_)), key=lambda x: -x[1])"
   ]
  },
  {
   "cell_type": "markdown",
   "metadata": {},
   "source": [
    "## STILL BIASED"
   ]
  },
  {
   "cell_type": "code",
   "execution_count": 53,
   "metadata": {
    "collapsed": true
   },
   "outputs": [],
   "source": [
    "df = pd.read_csv('/Users/toni/Desktop/metis/mcnulty/terrorsavechange.csv')\n",
    "\n",
    "df = df.drop(['extended', 'crit1', 'success','attacktype3','natlty3', 'ingroup3','guncertain2', 'guncertain3',\n",
    " 'claimed','claimmode', 'claim3','claimmode3', 'weaptype2', 'weapsubtype2','nkillter', 'nwoundus', 'nwoundte','nhostkidus',\n",
    " 'nhours', 'ransomamtus', 'ransompaidus','INT_IDEO', 'INT_MISC', 'INT_ANY', 'ingroup', 'latitude', 'perpo_new', 'perpo', \n",
    " 'country', 'longitude', 'region', 'current_month_count', 'natlty1', 'targettwo', 'natlty2', 'weapsubtype1', \n",
    " 'targtype1', 'month_alt', 'imonth', 'nwound', 'targetone', 'compclaim', 'INT_LOG', \n",
    " 'nkillus', 'propvalue', 'nkill','ransompaid','nperpcap', 'targsubtype1', 'ransomamt', 'targtype3', 'suicide',\n",
    " 'weapsubtype3','weaptype1', 'vicinity','ransom', 'specificity', 'ndays', 'targsubtype2', 'attacktype1', 'weapsubtype4', \n",
    " 'weaptype4','targsubtype3', 'claim2', 'nperps', 'alternative','nhostkid', 'targtype2', 'ingroup2', 'nreleased', \n",
    " 'weaptype3', 'crit2', 'multiple',  'claimmode2',  'crit3',  'iday',  'propextent', 'doubtterr', 'ishostkid', \n",
    "  'guncertain1',  'hostkidoutcome',  'property', 'attacktype2','countthree','counttwo', 'Unnamed: 0', 'reset_index', 'Unnamed: 0.1',\n",
    " 'iyear', \n",
    " 'eventid','current_year_count', \n",
    " 'diffone', \n",
    " 'countone', \n",
    " 'count_year_max', \n",
    " 'difftwo', 'countthree'], axis = 1)\n",
    "\n",
    "X,y = df.drop(['targetoneone','targetonetwo','targettwotwo','targettwoone'], axis=1),df['targettwotwo']\n",
    "X_train, X_test,y_train,y_test = train_test_split(X,y,test_size =0.3, random_state = 42)"
   ]
  },
  {
   "cell_type": "code",
   "execution_count": 62,
   "metadata": {},
   "outputs": [
    {
     "data": {
      "text/plain": [
       "0.86821895025191997"
      ]
     },
     "execution_count": 62,
     "metadata": {},
     "output_type": "execute_result"
    }
   ],
   "source": [
    "est = GradientBoostingClassifier(n_estimators=500).fit(X_train, y_train)\n",
    "est.score(X_test, y_test)"
   ]
  },
  {
   "cell_type": "code",
   "execution_count": 63,
   "metadata": {},
   "outputs": [
    {
     "name": "stdout",
     "output_type": "stream",
     "text": [
      "Model: GBT\n",
      "AUC: 0.915808296501\n",
      "\n"
     ]
    },
    {
     "data": {
      "image/png": "[encoded data removed]",
      "text/plain": [
       "<matplotlib.figure.Figure at 0x115009be0>"
      ]
     },
     "metadata": {},
     "output_type": "display_data"
    }
   ],
   "source": [
    "y_score = est.predict_proba(X_test)[:,1]\n",
    "\n",
    "fpr, tpr,_ = roc_curve(y_test, y_score, pos_label = 1)\n",
    "roc_auc = auc(fpr, tpr)\n",
    "\n",
    "print('Model: GBT')\n",
    "print('AUC: ' + str(roc_auc))\n",
    "print(\"\")\n",
    "\n",
    "plt.plot(fpr, tpr)\n",
    "plt.plot([0,1],[0,1], '--')\n",
    "plt.xlabel('FPR')\n",
    "plt.ylabel('TPR')\n",
    "plt.title('GBT')\n",
    "plt.show()"
   ]
  },
  {
   "cell_type": "code",
   "execution_count": 64,
   "metadata": {},
   "outputs": [
    {
     "data": {
      "text/plain": [
       "[('countfour', 1.0)]"
      ]
     },
     "execution_count": 64,
     "metadata": {},
     "output_type": "execute_result"
    }
   ],
   "source": [
    "sorted(zip(X_train.columns,abs(est.feature_importances_)), key=lambda x: -x[1])"
   ]
  },
  {
   "cell_type": "code",
   "execution_count": 147,
   "metadata": {},
   "outputs": [
    {
     "data": {
      "text/plain": [
       "0.84038546201633813"
      ]
     },
     "execution_count": 147,
     "metadata": {},
     "output_type": "execute_result"
    }
   ],
   "source": [
    "logr = LogisticRegression(penalty =  'l2', solver = 'liblinear')\n",
    "logr.fit(X_train, y_train)\n",
    "logr.score(X_test, y_test)"
   ]
  },
  {
   "cell_type": "code",
   "execution_count": 160,
   "metadata": {},
   "outputs": [
    {
     "data": {
      "text/plain": [
       "0.0    57259\n",
       "1.0    10882\n",
       "Name: targettwotwo, dtype: int64"
      ]
     },
     "execution_count": 160,
     "metadata": {},
     "output_type": "execute_result"
    }
   ],
   "source": [
    "df1.targettwotwo.value_counts()"
   ]
  },
  {
   "cell_type": "code",
   "execution_count": 291,
   "metadata": {
    "collapsed": true
   },
   "outputs": [],
   "source": [
    "def pr_curve(truthvec, scorevec, digit_prec=2):\n",
    "    threshvec = np.unique(np.round(scorevec,digit_prec))\n",
    "    numthresh = len(threshvec)\n",
    "    tpvec = np.zeros(numthresh)\n",
    "    fpvec = np.zeros(numthresh)\n",
    "    fnvec = np.zeros(numthresh)\n",
    "\n",
    "    for i in range(numthresh):\n",
    "        thresh = threshvec[i]\n",
    "        tpvec[i] = sum(truthvec[scorevec>=thresh])\n",
    "        fpvec[i] = sum(1-truthvec[scorevec>=thresh])\n",
    "        fnvec[i] = sum(truthvec[scorevec<thresh])\n",
    "    recallvec = tpvec/(tpvec + fnvec)\n",
    "    precisionvec = tpvec/(tpvec + fpvec)\n",
    "    plt.plot(precisionvec,recallvec)\n",
    "    plt.axis([0, 1, 0, 1])\n",
    "    plt.xlabel(\"Precision\")\n",
    "    plt.ylabel(\"Recall\")\n",
    "#     return (recallvec, precisionvec, threshvec)\n",
    "\n",
    "def log_lik_binary(truthvec, probvec):\n",
    "    return np.sum((np.log(probvec)*truthvec) + (np.log(1-probvec)*(1-truthvec)))"
   ]
  },
  {
   "cell_type": "code",
   "execution_count": 292,
   "metadata": {},
   "outputs": [
    {
     "name": "stderr",
     "output_type": "stream",
     "text": [
      "/Users/toni/anaconda/lib/python3.6/site-packages/ipykernel_launcher.py:14: RuntimeWarning: invalid value encountered in true_divide\n",
      "  \n"
     ]
    },
    {
     "data": {
      "image/png": "[encoded data removed]",
      "text/plain": [
       "<matplotlib.figure.Figure at 0x1196885f8>"
      ]
     },
     "metadata": {},
     "output_type": "display_data"
    }
   ],
   "source": [
    "pr_curve(y_test, y_score)"
   ]
  },
  {
   "cell_type": "code",
   "execution_count": 151,
   "metadata": {},
   "outputs": [
    {
     "data": {
      "text/plain": [
       "-928.5558242414232"
      ]
     },
     "execution_count": 151,
     "metadata": {},
     "output_type": "execute_result"
    }
   ],
   "source": [
    "log_lik_binary(y_test,y_score)"
   ]
  },
  {
   "cell_type": "markdown",
   "metadata": {},
   "source": [
    "## LESS BIASED"
   ]
  },
  {
   "cell_type": "code",
   "execution_count": 203,
   "metadata": {
    "collapsed": true
   },
   "outputs": [],
   "source": [
    "df2 = df.drop(['reset_index', 'eventid','count_year_max'], axis = 1)"
   ]
  },
  {
   "cell_type": "code",
   "execution_count": 212,
   "metadata": {
    "collapsed": true
   },
   "outputs": [],
   "source": [
    "X_train = df2.drop(['targetoneone','targetonetwo','targettwotwo','targettwoone'], axis = 1)[df2.iyear < 2010]\n",
    "X_test = df2.drop(['targetoneone','targetonetwo','targettwotwo','targettwoone'], axis = 1)[df2.iyear >= 2010]\n",
    "y_train = df2[df2.iyear < 2010]['targettwotwo']\n",
    "y_test =  df2[df2.iyear >= 2010]['targettwotwo']"
   ]
  },
  {
   "cell_type": "code",
   "execution_count": 214,
   "metadata": {},
   "outputs": [
    {
     "data": {
      "text/plain": [
       "0.79064480239926471"
      ]
     },
     "execution_count": 214,
     "metadata": {},
     "output_type": "execute_result"
    }
   ],
   "source": [
    "est = GradientBoostingClassifier(n_estimators=500).fit(X_train, y_train)\n",
    "est.score(X_test, y_test)"
   ]
  },
  {
   "cell_type": "code",
   "execution_count": 216,
   "metadata": {},
   "outputs": [
    {
     "data": {
      "text/plain": [
       "[('current_year_count', 0.13506991200203564),\n",
       " ('difftwo', 0.12815075707111759),\n",
       " ('countone', 0.10536749228210773),\n",
       " ('iyear', 0.10224744877259782),\n",
       " ('counttwo', 0.084108391236460078),\n",
       " ('diffone', 0.071805769936416727),\n",
       " ('countthree', 0.070595308055742795),\n",
       " ('countfour', 0.063244613763253993),\n",
       " ('ingroup', 0.048435472539542106),\n",
       " ('region', 0.02944006031768889),\n",
       " ('longitude', 0.021108192346263443),\n",
       " ('perpo', 0.020677843958274301),\n",
       " ('perpo_new', 0.018051588867852488),\n",
       " ('country', 0.016477163782340043),\n",
       " ('latitude', 0.015860753614320967),\n",
       " ('avgtempunc', 0.011928223854976995),\n",
       " ('avgtemp', 0.010001289867797905),\n",
       " ('natlty1', 0.0055078180794238792),\n",
       " ('INT_LOG', 0.0046261608444704812),\n",
       " ('targettwo', 0.0043427126161647107),\n",
       " ('nkill', 0.0029896780417838597),\n",
       " ('current_month_count', 0.0026157135897348196),\n",
       " ('ndays', 0.0025698484688409817),\n",
       " ('targetone', 0.0022386352627281254),\n",
       " ('targtype2', 0.0021533184828315451),\n",
       " ('iday', 0.0018473787916805822),\n",
       " ('nperps', 0.0016539797441436483),\n",
       " ('natlty2', 0.0016001173702056598),\n",
       " ('weapsubtype1', 0.0013599659272218725),\n",
       " ('imonth', 0.0013423340109882944),\n",
       " ('weaptype1', 0.0012714242803171633),\n",
       " ('attacktype1', 0.0012485406519178186),\n",
       " ('ransomamt', 0.0011524368755932359),\n",
       " ('nperpcap', 0.0010133654800360934),\n",
       " ('attacktype2', 0.00074970382680974394),\n",
       " ('specificity', 0.0007467246111438206),\n",
       " ('propvalue', 0.00067107450290999026),\n",
       " ('weapsubtype3', 0.00061913034952676708),\n",
       " ('propextent', 0.00052823470755887774),\n",
       " ('nwound', 0.00048338179426488131),\n",
       " ('nhostkid', 0.00044123190305712489),\n",
       " ('multiple', 0.00040209432397170274),\n",
       " ('alternative', 0.00038874123143834609),\n",
       " ('ingroup2', 0.0003560555058414837),\n",
       " ('guncertain1', 0.00034843729059053937),\n",
       " ('targsubtype3', 0.00034591902977952561),\n",
       " ('vicinity', 0.00033609171480369307),\n",
       " ('month_alt', 0.00033192240387139624),\n",
       " ('targsubtype1', 0.00026793972740214012),\n",
       " ('suicide', 0.00026248136341759876),\n",
       " ('weaptype3', 0.00019253308360256107),\n",
       " ('targsubtype2', 0.00014478787118334764),\n",
       " ('property', 0.00010808928978929644),\n",
       " ('targtype1', 6.8805471186135644e-05),\n",
       " ('doubtterr', 6.7824062319850974e-05),\n",
       " ('compclaim', 3.5085148658943012e-05),\n",
       " ('crit2', 0.0),\n",
       " ('crit3', 0.0),\n",
       " ('targtype3', 0.0),\n",
       " ('claim2', 0.0),\n",
       " ('claimmode2', 0.0),\n",
       " ('weaptype4', 0.0),\n",
       " ('weapsubtype4', 0.0),\n",
       " ('nkillus', 0.0),\n",
       " ('ishostkid', 0.0),\n",
       " ('ransom', 0.0),\n",
       " ('ransompaid', 0.0),\n",
       " ('hostkidoutcome', 0.0),\n",
       " ('nreleased', 0.0)]"
      ]
     },
     "execution_count": 216,
     "metadata": {},
     "output_type": "execute_result"
    }
   ],
   "source": [
    "sorted(zip(X_train.columns,abs(est.feature_importances_)), key=lambda x: -x[1])"
   ]
  },
  {
   "cell_type": "code",
   "execution_count": 217,
   "metadata": {},
   "outputs": [
    {
     "name": "stdout",
     "output_type": "stream",
     "text": [
      "Model: GBT\n",
      "AUC: 0.652017714928\n",
      "\n"
     ]
    },
    {
     "data": {
      "image/png": "[encoded data removed]",
      "text/plain": [
       "<matplotlib.figure.Figure at 0x11869b908>"
      ]
     },
     "metadata": {},
     "output_type": "display_data"
    }
   ],
   "source": [
    "y_score = est.predict_proba(X_test)[:,1]\n",
    "\n",
    "fpr, tpr,_ = roc_curve(y_test, y_score, pos_label = 1)\n",
    "roc_auc = auc(fpr, tpr)\n",
    "\n",
    "print('Model: GBT')\n",
    "print('AUC: ' + str(roc_auc))\n",
    "print(\"\")\n",
    "\n",
    "plt.plot(fpr, tpr)\n",
    "plt.plot([0,1],[0,1], '--')\n",
    "plt.xlabel('FPR')\n",
    "plt.ylabel('TPR')\n",
    "plt.title('GBT')\n",
    "plt.show()"
   ]
  },
  {
   "cell_type": "code",
   "execution_count": 218,
   "metadata": {},
   "outputs": [
    {
     "name": "stderr",
     "output_type": "stream",
     "text": [
      "/Users/toni/anaconda/lib/python3.6/site-packages/ipykernel_launcher.py:14: RuntimeWarning: invalid value encountered in true_divide\n",
      "  \n"
     ]
    },
    {
     "data": {
      "text/plain": [
       "(array([  1.00000000e+00,   4.01860465e-01,   3.23953488e-01,\n",
       "          2.82325581e-01,   1.93488372e-01,   1.51162791e-01,\n",
       "          7.90697674e-02,   7.72093023e-02,   7.44186047e-02,\n",
       "          7.20930233e-02,   6.58139535e-02,   5.18604651e-02,\n",
       "          3.83720930e-02,   2.81395349e-02,   2.51162791e-02,\n",
       "          2.20930233e-02,   1.93023256e-02,   1.69767442e-02,\n",
       "          1.51162791e-02,   1.32558140e-02,   1.23255814e-02,\n",
       "          1.11627907e-02,   1.11627907e-02,   1.11627907e-02,\n",
       "          1.00000000e-02,   9.53488372e-03,   9.30232558e-03,\n",
       "          8.37209302e-03,   7.67441860e-03,   7.44186047e-03,\n",
       "          6.97674419e-03,   6.51162791e-03,   3.72093023e-03,\n",
       "          3.72093023e-03,   2.79069767e-03,   2.79069767e-03,\n",
       "          2.79069767e-03,   2.79069767e-03,   2.79069767e-03,\n",
       "          2.55813953e-03,   2.55813953e-03,   2.32558140e-03,\n",
       "          2.32558140e-03,   2.32558140e-03,   2.32558140e-03,\n",
       "          2.09302326e-03,   1.62790698e-03,   1.39534884e-03,\n",
       "          9.30232558e-04,   6.97674419e-04,   6.97674419e-04,\n",
       "          6.97674419e-04,   6.97674419e-04,   4.65116279e-04,\n",
       "          4.65116279e-04,   4.65116279e-04,   4.65116279e-04,\n",
       "          4.65116279e-04,   4.65116279e-04,   2.32558140e-04,\n",
       "          0.00000000e+00,   0.00000000e+00,   0.00000000e+00,\n",
       "          0.00000000e+00,   0.00000000e+00]),\n",
       " array([ 0.20800077,  0.24713959,  0.32372763,  0.3355445 ,  0.3389002 ,\n",
       "         0.30545113,  0.20581114,  0.25113464,  0.25437202,  0.25876461,\n",
       "         0.24824561,  0.21671526,  0.19807923,  0.16241611,  0.15539568,\n",
       "         0.14728682,  0.14310345,  0.13272727,  0.13513514,  0.12837838,\n",
       "         0.13910761,  0.13994169,  0.18390805,  0.21917808,  0.20379147,\n",
       "         0.20197044,  0.2484472 ,  0.26086957,  0.2704918 ,  0.27826087,\n",
       "         0.32608696,  0.3373494 ,  0.23188406,  0.23529412,  0.19047619,\n",
       "         0.19672131,  0.2       ,  0.20689655,  0.21428571,  0.20754717,\n",
       "         0.21153846,  0.19607843,  0.2       ,  0.20833333,  0.21276596,\n",
       "         0.19565217,  0.15909091,  0.13953488,  0.09756098,  0.09677419,\n",
       "         0.1       ,  0.1       ,  0.11111111,  0.07692308,  0.08695652,\n",
       "         0.09090909,  0.1       ,  0.11111111,  0.125     ,  0.06666667,\n",
       "         0.        ,  0.        ,  0.        ,  0.        ,         nan]),\n",
       " array([ 0.  ,  0.01,  0.02,  0.03,  0.04,  0.05,  0.06,  0.07,  0.08,\n",
       "         0.09,  0.1 ,  0.11,  0.12,  0.13,  0.14,  0.15,  0.16,  0.17,\n",
       "         0.18,  0.19,  0.2 ,  0.21,  0.22,  0.23,  0.24,  0.25,  0.26,\n",
       "         0.27,  0.28,  0.29,  0.3 ,  0.31,  0.32,  0.33,  0.34,  0.35,\n",
       "         0.36,  0.37,  0.38,  0.39,  0.41,  0.42,  0.43,  0.48,  0.49,\n",
       "         0.5 ,  0.52,  0.53,  0.54,  0.55,  0.56,  0.57,  0.58,  0.59,\n",
       "         0.61,  0.62,  0.63,  0.66,  0.67,  0.69,  0.71,  0.73,  0.78,\n",
       "         0.79,  0.8 ]))"
      ]
     },
     "execution_count": 218,
     "metadata": {},
     "output_type": "execute_result"
    },
    {
     "data": {
      "image/png": "[encoded data removed]",
      "text/plain": [
       "<matplotlib.figure.Figure at 0x11c3749b0>"
      ]
     },
     "metadata": {},
     "output_type": "display_data"
    }
   ],
   "source": [
    "pr_curve(y_test, y_score)"
   ]
  },
  {
   "cell_type": "code",
   "execution_count": 219,
   "metadata": {},
   "outputs": [
    {
     "data": {
      "text/plain": [
       "0.79199922604363182"
      ]
     },
     "execution_count": 219,
     "metadata": {},
     "output_type": "execute_result"
    }
   ],
   "source": [
    "logr = LogisticRegression(penalty =  'l2', solver = 'liblinear')\n",
    "logr.fit(X_train, y_train)\n",
    "logr.score(X_test, y_test)"
   ]
  },
  {
   "cell_type": "code",
   "execution_count": 220,
   "metadata": {},
   "outputs": [
    {
     "data": {
      "text/plain": [
       "array([[ -1.28354849e-05,  -4.12950094e-08,  -9.83672900e-08,\n",
       "         -9.80014703e-07,  -3.83253493e-08,  -1.53183327e-07,\n",
       "         -3.41623380e-07,  -1.00938168e-08,  -4.53277045e-10,\n",
       "         -6.36687996e-09,  -5.55999945e-09,  -2.78256119e-09,\n",
       "         -1.28299336e-09,  -9.64756410e-10,  -1.15961875e-10,\n",
       "         -1.99738948e-08,  -4.95792841e-10,  -5.06771737e-08,\n",
       "         -2.77877328e-07,  -8.48012386e-07,  -2.04349841e-09,\n",
       "         -1.02892150e-08,  -3.19868382e-08,  -3.25195997e-10,\n",
       "         -1.71905291e-09,  -1.56155539e-05,  -6.23460654e-07,\n",
       "         -9.62099948e-10,  -8.27064376e-08,  -8.12264777e-09,\n",
       "         -2.23177305e-11,  -1.78819670e-10,  -2.81839912e-09,\n",
       "         -4.13291036e-08,  -5.41595882e-08,  -3.83273254e-10,\n",
       "         -6.30800901e-10,  -3.65484011e-11,  -3.81875445e-11,\n",
       "         -1.73423048e-08,  -6.48554516e-10,  -1.77146679e-08,\n",
       "         -7.38679699e-09,  -7.11590543e-09,  -1.39040085e-06,\n",
       "         -4.52870277e-10,  -4.18452409e-09,  -1.21861114e-08,\n",
       "         -3.70641860e-10,  -2.39873942e-08,  -2.49944428e-07,\n",
       "         -1.14959851e-09,  -8.03268156e-09,  -2.92334405e-10,\n",
       "         -9.67140601e-07,  -1.15882164e-06,  -1.43219741e-07,\n",
       "         -4.13018021e-08,  -9.66678429e-07,  -1.26533593e-07,\n",
       "         -1.77436965e-09,  -8.51675133e-07,  -7.56815082e-07,\n",
       "         -7.34377789e-07,  -6.07042671e-07,  -2.83097230e-07,\n",
       "         -3.75073772e-07,  -2.74836288e-09,  -2.25069493e-09]])"
      ]
     },
     "execution_count": 220,
     "metadata": {},
     "output_type": "execute_result"
    }
   ],
   "source": [
    "logr.coef_"
   ]
  },
  {
   "cell_type": "markdown",
   "metadata": {},
   "source": [
    "## LESS BIASED & NO TIME SHIFTED TEMP"
   ]
  },
  {
   "cell_type": "code",
   "execution_count": 290,
   "metadata": {
    "collapsed": true
   },
   "outputs": [],
   "source": [
    "df = pd.read_csv('/Users/toni/Desktop/metis/mcnulty/terrorsavechange.csv')"
   ]
  },
  {
   "cell_type": "code",
   "execution_count": 237,
   "metadata": {
    "collapsed": true
   },
   "outputs": [],
   "source": [
    "X_train = df.drop(['targetoneone','targetonetwo','targettwotwo','targettwoone'], axis = 1)[(df.iyear < 2010) & (df.iyear > 1990)]\n",
    "X_test = df.drop(['targetoneone','targetonetwo','targettwotwo','targettwoone'], axis = 1)[df.iyear >= 2010]\n",
    "y_train = df[(df.iyear < 2010) & (df.iyear > 1990)]['targettwotwo']\n",
    "y_test =  df[df.iyear >= 2010]['targettwotwo']"
   ]
  },
  {
   "cell_type": "code",
   "execution_count": 286,
   "metadata": {},
   "outputs": [
    {
     "data": {
      "text/plain": [
       "0.79180573695157941"
      ]
     },
     "execution_count": 286,
     "metadata": {},
     "output_type": "execute_result"
    }
   ],
   "source": [
    "est = GradientBoostingClassifier(n_estimators=500).fit(X_train, y_train)\n",
    "est.score(X_test, y_test)"
   ]
  },
  {
   "cell_type": "code",
   "execution_count": 288,
   "metadata": {},
   "outputs": [
    {
     "data": {
      "text/plain": [
       "(0.79180573695157941, 0.79180573695157941, 0.79180573695157941, None)"
      ]
     },
     "execution_count": 288,
     "metadata": {},
     "output_type": "execute_result"
    }
   ],
   "source": [
    "y_predict = est.predict(X_test)\n",
    "precision_recall_fscore_support(y_test,y_predict, average='micro')"
   ]
  },
  {
   "cell_type": "code",
   "execution_count": 239,
   "metadata": {},
   "outputs": [
    {
     "data": {
      "text/plain": [
       "[('current_year_count', 0.17188392070146558),\n",
       " ('difftwo', 0.10014904306714779),\n",
       " ('countthree', 0.085218752789735855),\n",
       " ('countone', 0.071148689948199423),\n",
       " ('countfour', 0.058931919370236438),\n",
       " ('iyear', 0.049802787961916131),\n",
       " ('diffone', 0.045865395091304939),\n",
       " ('counttwo', 0.045210929409961007),\n",
       " ('longitude', 0.044365812776273029),\n",
       " ('ingroup', 0.036503537358663699),\n",
       " ('region', 0.035869010181990603),\n",
       " ('avgtempunc', 0.034304142768142067),\n",
       " ('avgtemp', 0.033978498319997656),\n",
       " ('latitude', 0.030447740787186022),\n",
       " ('perpo', 0.024354446100415802),\n",
       " ('perpo_new', 0.021172469785356335),\n",
       " ('iday', 0.013903274978952555),\n",
       " ('natlty1', 0.011909486251932954),\n",
       " ('country', 0.010330919418813622),\n",
       " ('current_month_count', 0.008400523489893251),\n",
       " ('alternative', 0.0050730648219045379),\n",
       " ('nkill', 0.0048067992796693932),\n",
       " ('nwound', 0.0046179387141137588),\n",
       " ('targsubtype3', 0.004533299857388067),\n",
       " ('nhostkid', 0.0038516488814341354),\n",
       " ('propvalue', 0.0038025607631775159),\n",
       " ('INT_LOG', 0.0034623001473535826),\n",
       " ('crit2', 0.0033954755793266268),\n",
       " ('nperps', 0.0031226272718439447),\n",
       " ('propextent', 0.0027779650305440455),\n",
       " ('month_alt', 0.0026412141693860562),\n",
       " ('doubtterr', 0.0025718873041615524),\n",
       " ('imonth', 0.0020907971920492499),\n",
       " ('nperpcap', 0.0020539498612811807),\n",
       " ('vicinity', 0.0020495755339361077),\n",
       " ('targetone', 0.0020215279203177369),\n",
       " ('targsubtype1', 0.0017969551563487474),\n",
       " ('attacktype2', 0.0012001770059376605),\n",
       " ('compclaim', 0.0011774517172930409),\n",
       " ('weapsubtype1', 0.001088363502855873),\n",
       " ('attacktype1', 0.0010694258088359168),\n",
       " ('weaptype1', 0.00090141463165776094),\n",
       " ('property', 0.00079301256886121199),\n",
       " ('targettwo', 0.00068069731045566949),\n",
       " ('natlty2', 0.00064283907008280065),\n",
       " ('ishostkid', 0.00063563932402883514),\n",
       " ('targtype3', 0.00058518823265203549),\n",
       " ('weapsubtype3', 0.00053412785210035275),\n",
       " ('suicide', 0.00052572879807966479),\n",
       " ('ndays', 0.00050068574949513063),\n",
       " ('multiple', 0.00046225368534725392),\n",
       " ('targtype1', 0.00026223763922305824),\n",
       " ('crit3', 0.00020223158922789533),\n",
       " ('guncertain1', 0.00019353018899398442),\n",
       " ('targsubtype2', 0.00011156780442224366),\n",
       " ('ingroup2', 1.2539478628298263e-05),\n",
       " ('specificity', 0.0),\n",
       " ('targtype2', 0.0),\n",
       " ('claim2', 0.0),\n",
       " ('claimmode2', 0.0),\n",
       " ('weaptype3', 0.0),\n",
       " ('weaptype4', 0.0),\n",
       " ('weapsubtype4', 0.0),\n",
       " ('nkillus', 0.0),\n",
       " ('ransom', 0.0),\n",
       " ('ransomamt', 0.0),\n",
       " ('ransompaid', 0.0),\n",
       " ('hostkidoutcome', 0.0),\n",
       " ('nreleased', 0.0)]"
      ]
     },
     "execution_count": 239,
     "metadata": {},
     "output_type": "execute_result"
    }
   ],
   "source": [
    "sorted(zip(X_train.columns,abs(est.feature_importances_)), key=lambda x: -x[1])"
   ]
  },
  {
   "cell_type": "code",
   "execution_count": 240,
   "metadata": {},
   "outputs": [
    {
     "name": "stdout",
     "output_type": "stream",
     "text": [
      "Model: GBT\n",
      "AUC: 0.567671407408\n",
      "\n"
     ]
    },
    {
     "data": {
      "image/png": "[encoded data removed]",
      "text/plain": [
       "<matplotlib.figure.Figure at 0x120101198>"
      ]
     },
     "metadata": {},
     "output_type": "display_data"
    }
   ],
   "source": [
    "y_score = est.predict_proba(X_test)[:,1]\n",
    "\n",
    "fpr, tpr,_ = roc_curve(y_test, y_score, pos_label = 1)\n",
    "roc_auc = auc(fpr, tpr)\n",
    "\n",
    "print('Model: GBT')\n",
    "print('AUC: ' + str(roc_auc))\n",
    "print(\"\")\n",
    "\n",
    "plt.plot(fpr, tpr)\n",
    "plt.plot([0,1],[0,1], '--')\n",
    "plt.xlabel('FPR')\n",
    "plt.ylabel('TPR')\n",
    "plt.title('GBT')\n",
    "plt.show()"
   ]
  },
  {
   "cell_type": "code",
   "execution_count": 241,
   "metadata": {},
   "outputs": [
    {
     "data": {
      "text/plain": [
       "(array([  1.00000000e+00,   6.90697674e-02,   3.97674419e-02,\n",
       "          3.02325581e-02,   1.48837209e-02,   6.27906977e-03,\n",
       "          3.02325581e-03,   3.02325581e-03,   2.79069767e-03,\n",
       "          2.55813953e-03,   2.55813953e-03,   2.55813953e-03,\n",
       "          2.55813953e-03,   2.55813953e-03,   2.32558140e-03,\n",
       "          2.32558140e-03,   2.32558140e-03,   2.32558140e-03,\n",
       "          2.32558140e-03,   2.32558140e-03,   2.32558140e-03,\n",
       "          2.09302326e-03,   2.09302326e-03,   2.09302326e-03,\n",
       "          2.09302326e-03,   2.09302326e-03,   2.09302326e-03,\n",
       "          2.09302326e-03,   1.86046512e-03,   1.86046512e-03,\n",
       "          1.86046512e-03,   1.39534884e-03,   1.39534884e-03,\n",
       "          1.16279070e-03,   1.16279070e-03,   1.16279070e-03,\n",
       "          6.97674419e-04,   4.65116279e-04,   2.32558140e-04,\n",
       "          2.32558140e-04]),\n",
       " array([ 0.20800077,  0.25169492,  0.22559367,  0.19548872,  0.11962617,\n",
       "         0.06221198,  0.03903904,  0.06951872,  0.07843137,  0.07746479,\n",
       "         0.09166667,  0.12941176,  0.16666667,  0.18333333,  0.17241379,\n",
       "         0.18867925,  0.20408163,  0.22222222,  0.22727273,  0.24390244,\n",
       "         0.26315789,  0.25714286,  0.27272727,  0.27272727,  0.3       ,\n",
       "         0.31034483,  0.40909091,  0.45      ,  0.42105263,  0.44444444,\n",
       "         0.61538462,  0.66666667,  0.85714286,  0.83333333,  0.83333333,\n",
       "         1.        ,  1.        ,  1.        ,  1.        ,  1.        ]),\n",
       " array([ 0.  ,  0.01,  0.02,  0.03,  0.04,  0.05,  0.06,  0.07,  0.08,\n",
       "         0.09,  0.1 ,  0.11,  0.12,  0.13,  0.14,  0.15,  0.16,  0.17,\n",
       "         0.19,  0.21,  0.22,  0.23,  0.24,  0.26,  0.27,  0.28,  0.29,\n",
       "         0.3 ,  0.31,  0.32,  0.33,  0.34,  0.35,  0.36,  0.37,  0.39,\n",
       "         0.44,  0.51,  0.67,  0.76]))"
      ]
     },
     "execution_count": 241,
     "metadata": {},
     "output_type": "execute_result"
    },
    {
     "data": {
      "image/png": "[encoded data removed]",
      "text/plain": [
       "<matplotlib.figure.Figure at 0x119f94240>"
      ]
     },
     "metadata": {},
     "output_type": "display_data"
    }
   ],
   "source": [
    "pr_curve(y_test, y_score)"
   ]
  },
  {
   "cell_type": "code",
   "execution_count": 242,
   "metadata": {},
   "outputs": [
    {
     "data": {
      "text/plain": [
       "0.79209597058965797"
      ]
     },
     "execution_count": 242,
     "metadata": {},
     "output_type": "execute_result"
    }
   ],
   "source": [
    "logr = LogisticRegression(penalty =  'l2', solver = 'liblinear')\n",
    "logr.fit(X_train, y_train)\n",
    "logr.score(X_test, y_test)"
   ]
  },
  {
   "cell_type": "code",
   "execution_count": 271,
   "metadata": {},
   "outputs": [
    {
     "data": {
      "text/plain": [
       "[('iyear', 0.00076016046037702953),\n",
       " ('current_year_count', 5.7828060223902616e-05),\n",
       " ('country', 5.6871313879037356e-05),\n",
       " ('perpo_new', 5.5917637534652776e-05),\n",
       " ('perpo', 5.5916016473445049e-05),\n",
       " ('natlty1', 5.0627063937608044e-05),\n",
       " ('countone', 4.4601221299503538e-05),\n",
       " ('counttwo', 4.2077229543595805e-05),\n",
       " ('countthree', 3.9059375031889319e-05),\n",
       " ('countfour', 3.7049766104824731e-05),\n",
       " ('longitude', 2.001027484937381e-05),\n",
       " ('ingroup', 1.8969625671837193e-05),\n",
       " ('targsubtype1', 1.6762429874421619e-05),\n",
       " ('difftwo', 1.3823901510327531e-05),\n",
       " ('diffone', 1.0595918871571548e-05),\n",
       " ('latitude', 9.075678989742505e-06),\n",
       " ('current_month_count', 7.9586901474136025e-06),\n",
       " ('avgtemp', 7.5215059244373559e-06),\n",
       " ('iday', 5.7908547950669786e-06),\n",
       " ('nperps', 5.6325196635753197e-06),\n",
       " ('propvalue', 4.0767659345410431e-06),\n",
       " ('weapsubtype1', 3.1562357001873962e-06),\n",
       " ('ingroup2', 3.1005114648198354e-06),\n",
       " ('targtype1', 3.0786207713657223e-06),\n",
       " ('region', 2.5333709489925149e-06),\n",
       " ('weaptype1', 2.473555552255239e-06),\n",
       " ('imonth', 2.4660791985038369e-06),\n",
       " ('month_alt', 2.4660791985038369e-06),\n",
       " ('natlty2', 2.4104449011570534e-06),\n",
       " ('nwound', 1.3974913311758516e-06),\n",
       " ('attacktype1', 1.2502506463131756e-06),\n",
       " ('nkill', 1.1093479464326597e-06),\n",
       " ('targsubtype2', 7.3372618794594573e-07),\n",
       " ('nreleased', 6.6745010016328794e-07),\n",
       " ('ndays', 6.6376811211658027e-07),\n",
       " ('specificity', 6.161725793168984e-07),\n",
       " ('nhostkid', 5.3405881026530764e-07),\n",
       " ('property', 5.0541205645405505e-07),\n",
       " ('nperpcap', 3.9130460247873326e-07),\n",
       " ('crit2', 3.7395235767576824e-07),\n",
       " ('crit3', 3.3330663718168003e-07),\n",
       " ('propextent', 2.8994544784034448e-07),\n",
       " ('compclaim', 2.2786834981320924e-07),\n",
       " ('ransompaid', 1.8742528359372205e-07),\n",
       " ('doubtterr', 1.8579489520272335e-07),\n",
       " ('targtype2', 1.4538471352926752e-07),\n",
       " ('targettwo', 1.3786865912393673e-07),\n",
       " ('targsubtype3', 1.3327184646959954e-07),\n",
       " ('avgtempunc', 1.119496059371599e-07),\n",
       " ('targetone', 9.9916083318933861e-08),\n",
       " ('alternative', 7.9402048736501541e-08),\n",
       " ('hostkidoutcome', 7.5756013361927372e-08),\n",
       " ('guncertain1', 7.1822326723087183e-08),\n",
       " ('multiple', 6.2043535430306796e-08),\n",
       " ('nkillus', 4.1700259944634518e-08),\n",
       " ('vicinity', 3.3481450517170602e-08),\n",
       " ('attacktype2', 3.0036825796470368e-08),\n",
       " ('ishostkid', 2.5883275239599097e-08),\n",
       " ('targtype3', 2.5762467550048395e-08),\n",
       " ('weapsubtype3', 2.2226143195875561e-08),\n",
       " ('ransomamt', 1.8951609600416506e-08),\n",
       " ('ransom', 1.8206227615404671e-08),\n",
       " ('weaptype3', 1.6380749952870626e-08),\n",
       " ('INT_LOG', 1.5711494977012862e-08),\n",
       " ('suicide', 1.0931297672612982e-08),\n",
       " ('claimmode2', 1.052334858334651e-08),\n",
       " ('claim2', 3.0463519384983937e-09),\n",
       " ('weapsubtype4', 5.5722184749473321e-10),\n",
       " ('weaptype4', 2.464700829825954e-10)]"
      ]
     },
     "execution_count": 271,
     "metadata": {},
     "output_type": "execute_result"
    }
   ],
   "source": [
    "sorted(zip(X_train.columns, abs(logr.coef_[0])), key=lambda x: -x[1])"
   ]
  },
  {
   "cell_type": "code",
   "execution_count": 272,
   "metadata": {},
   "outputs": [
    {
     "name": "stdout",
     "output_type": "stream",
     "text": [
      "Model: GBT\n",
      "AUC: 0.62116499228\n",
      "\n"
     ]
    },
    {
     "data": {
      "image/png": "[encoded data removed]",
      "text/plain": [
       "<matplotlib.figure.Figure at 0x118ef8c18>"
      ]
     },
     "metadata": {},
     "output_type": "display_data"
    }
   ],
   "source": [
    "y_score = logr.predict_proba(X_test)[:,1]\n",
    "\n",
    "fpr, tpr,_ = roc_curve(y_test, y_score, pos_label = 1)\n",
    "roc_auc = auc(fpr, tpr)\n",
    "\n",
    "print('Model: GBT')\n",
    "print('AUC: ' + str(roc_auc))\n",
    "print(\"\")\n",
    "\n",
    "plt.plot(fpr, tpr)\n",
    "plt.plot([0,1],[0,1], '--')\n",
    "plt.xlabel('FPR')\n",
    "plt.ylabel('TPR')\n",
    "plt.title('GBT')\n",
    "plt.show()"
   ]
  },
  {
   "cell_type": "code",
   "execution_count": 285,
   "metadata": {},
   "outputs": [
    {
     "data": {
      "text/plain": [
       "(0.79209597058965797, 0.79209597058965797, 0.79209597058965797, None)"
      ]
     },
     "execution_count": 285,
     "metadata": {},
     "output_type": "execute_result"
    }
   ],
   "source": [
    "y_predict = logr.predict(X_test)\n",
    "precision_recall_fscore_support(y_test,y_predict, average='micro')"
   ]
  },
  {
   "cell_type": "code",
   "execution_count": 293,
   "metadata": {},
   "outputs": [
    {
     "name": "stderr",
     "output_type": "stream",
     "text": [
      "/Users/toni/anaconda/lib/python3.6/site-packages/ipykernel_launcher.py:14: RuntimeWarning: invalid value encountered in true_divide\n",
      "  \n"
     ]
    },
    {
     "data": {
      "image/png": "[encoded data removed]",
      "text/plain": [
       "<matplotlib.figure.Figure at 0x11a013390>"
      ]
     },
     "metadata": {},
     "output_type": "display_data"
    }
   ],
   "source": [
    "pr_curve(y_test, y_score)"
   ]
  },
  {
   "cell_type": "code",
   "execution_count": 273,
   "metadata": {
    "collapsed": true
   },
   "outputs": [],
   "source": [
    "svcmodel = SVC()"
   ]
  },
  {
   "cell_type": "code",
   "execution_count": 274,
   "metadata": {},
   "outputs": [
    {
     "data": {
      "text/plain": [
       "0.79199922604363182"
      ]
     },
     "execution_count": 274,
     "metadata": {},
     "output_type": "execute_result"
    }
   ],
   "source": [
    "svcmodel.fit(X_train, y_train)\n",
    "svcmodel.score(X_test,y_test)"
   ]
  },
  {
   "cell_type": "code",
   "execution_count": 289,
   "metadata": {},
   "outputs": [
    {
     "data": {
      "text/plain": [
       "(0.79199922604363182, 0.79199922604363182, 0.79199922604363182, None)"
      ]
     },
     "execution_count": 289,
     "metadata": {},
     "output_type": "execute_result"
    }
   ],
   "source": [
    "y_predict = svcmodel.predict(X_test)\n",
    "precision_recall_fscore_support(y_test,y_predict, average='micro')"
   ]
  },
  {
   "cell_type": "markdown",
   "metadata": {},
   "source": [
    "## UNBIASED WITHOUT TEMPERATURE DATA"
   ]
  },
  {
   "cell_type": "code",
   "execution_count": 296,
   "metadata": {
    "collapsed": true
   },
   "outputs": [],
   "source": [
    "df = pd.read_csv('/Users/toni/Desktop/metis/mcnulty/terrorsavechange8.csv')"
   ]
  },
  {
   "cell_type": "code",
   "execution_count": 300,
   "metadata": {
    "collapsed": true
   },
   "outputs": [],
   "source": [
    "X_train = df.drop(['targetoneone','targetonetwo','targettwotwo','targettwoone','targetoneone_unbias','targetonetwo_unbias','targettwotwo_unbias','targettwoone_unbias'], axis = 1)[(df.iyear < 2010) & (df.iyear > 1990)]\n",
    "X_test = df.drop(['targetoneone','targetonetwo','targettwotwo','targettwoone','targetoneone_unbias','targetonetwo_unbias','targettwotwo_unbias','targettwoone_unbias'], axis = 1)[df.iyear >= 2010]\n",
    "y_train = df[(df.iyear < 2010) & (df.iyear > 1990)]['targettwotwo']\n",
    "y_test =  df[df3.iyear >= 2010]['targettwotwo']"
   ]
  },
  {
   "cell_type": "code",
   "execution_count": 301,
   "metadata": {},
   "outputs": [
    {
     "name": "stdout",
     "output_type": "stream",
     "text": [
      "gbc = 0.7180380206065883\n",
      "(0.71803802060658828, 0.71803802060658828, 0.71803802060658828, None)\n"
     ]
    },
    {
     "data": {
      "text/plain": [
       "[('current_year_count', 0.11769541762210782),\n",
       " ('difftwo', 0.11688608327986426),\n",
       " ('countthree', 0.09814652041602695),\n",
       " ('countfour', 0.091654821763433619),\n",
       " ('countone', 0.080773925502455574),\n",
       " ('count_year_max_unbias', 0.070102087571732932),\n",
       " ('diffone', 0.066532061911263304),\n",
       " ('count_year_max', 0.065653687563795554),\n",
       " ('counttwo', 0.042661458557182126),\n",
       " ('ingroup', 0.025307336315545343),\n",
       " ('eventid', 0.01880725067168763),\n",
       " ('reset_index', 0.018674769167504799),\n",
       " ('longitude', 0.016715622931300331),\n",
       " ('country', 0.016258470716407101),\n",
       " ('Unnamed: 0.1', 0.016147627214617981),\n",
       " ('perpo', 0.016036628613804518),\n",
       " ('iyear', 0.015663341677913601),\n",
       " ('Unnamed: 0', 0.015657755970056152),\n",
       " ('perpo_new', 0.011286688597055739),\n",
       " ('latitude', 0.011143049369586622),\n",
       " ('region', 0.010839642198935278),\n",
       " ('natlty1', 0.0060873213625395831),\n",
       " ('INT_LOG', 0.0051717966365971459),\n",
       " ('nperpcap', 0.0048908443324601663),\n",
       " ('ingroup3', 0.0039038699956291038),\n",
       " ('nhours', 0.0034775705002454437),\n",
       " ('targetwo_unbias', 0.0033901161935266104),\n",
       " ('targettwo', 0.0030759345782410915),\n",
       " ('imonth', 0.0027122905219013902),\n",
       " ('month_alt', 0.0020922366394604906),\n",
       " ('iday', 0.0018208633067816893),\n",
       " ('claimmode', 0.0017738341291987467),\n",
       " ('nkillter', 0.0016789947977507735),\n",
       " ('suicide', 0.00165965496207378),\n",
       " ('current_month_count', 0.0015941273648791123),\n",
       " ('nwound', 0.0013480136392865186),\n",
       " ('multiple', 0.0011643568610083218),\n",
       " ('claimed', 0.0011472740171249529),\n",
       " ('nwoundus', 0.0010736157377266551),\n",
       " ('targsubtype1', 0.00091342604021328404),\n",
       " ('claimmode2', 0.00091313890623911844),\n",
       " ('targetone', 0.00087486897203479348),\n",
       " ('propvalue', 0.00082394327228798344),\n",
       " ('weapsubtype1', 0.00064002869514924151),\n",
       " ('ndays', 0.00062086150065065744),\n",
       " ('targsubtype3', 0.00053792357758733857),\n",
       " ('weapsubtype3', 0.00051663862936003981),\n",
       " ('property', 0.00037523176827735294),\n",
       " ('ishostkid', 0.00036434415191324067),\n",
       " ('ingroup2', 0.00036022643869998075),\n",
       " ('guncertain1', 0.00033648211951983878),\n",
       " ('nkill', 0.00032283397462983812),\n",
       " ('INT_IDEO', 0.00029300410319794891),\n",
       " ('targetone_unbias', 0.00027656450536709613),\n",
       " ('targtype2', 0.0002669689940765243),\n",
       " ('targsubtype2', 0.00022284206841147362),\n",
       " ('compclaim', 0.00018117870209371207),\n",
       " ('claim2', 0.00014201275130480261),\n",
       " ('specificity', 0.00011227349698852714),\n",
       " ('nperps', 7.419155604169917e-05),\n",
       " ('INT_ANY', 5.6428850770109943e-05),\n",
       " ('natlty3', 2.50500179357905e-05),\n",
       " ('ransompaid', 2.2591977421671555e-05),\n",
       " ('targtype1', 1.9843921984849418e-05),\n",
       " ('weaptype1', 8.1934958234486227e-08),\n",
       " ('crit2', 5.5864175956182429e-08),\n",
       " ('extended', 0.0),\n",
       " ('vicinity', 0.0),\n",
       " ('crit1', 0.0),\n",
       " ('crit3', 0.0),\n",
       " ('doubtterr', 0.0),\n",
       " ('alternative', 0.0),\n",
       " ('success', 0.0),\n",
       " ('attacktype1', 0.0),\n",
       " ('attacktype2', 0.0),\n",
       " ('attacktype3', 0.0),\n",
       " ('natlty2', 0.0),\n",
       " ('targtype3', 0.0),\n",
       " ('guncertain2', 0.0),\n",
       " ('guncertain3', 0.0),\n",
       " ('claim3', 0.0),\n",
       " ('claimmode3', 0.0),\n",
       " ('weaptype2', 0.0),\n",
       " ('weapsubtype2', 0.0),\n",
       " ('weaptype3', 0.0),\n",
       " ('weaptype4', 0.0),\n",
       " ('weapsubtype4', 0.0),\n",
       " ('nkillus', 0.0),\n",
       " ('nwoundte', 0.0),\n",
       " ('propextent', 0.0),\n",
       " ('nhostkid', 0.0),\n",
       " ('nhostkidus', 0.0),\n",
       " ('ransom', 0.0),\n",
       " ('ransomamt', 0.0),\n",
       " ('ransomamtus', 0.0),\n",
       " ('ransompaidus', 0.0),\n",
       " ('hostkidoutcome', 0.0),\n",
       " ('nreleased', 0.0),\n",
       " ('INT_MISC', 0.0)]"
      ]
     },
     "execution_count": 301,
     "metadata": {},
     "output_type": "execute_result"
    }
   ],
   "source": [
    "est = GradientBoostingClassifier(n_estimators=500).fit(X_train, y_train)\n",
    "print( 'gbc = {0}'.format(est.score(X_test, y_test)))\n",
    "\n",
    "y_predict = est.predict(X_test)\n",
    "print (precision_recall_fscore_support(y_test,y_predict, average='micro'))\n",
    "\n",
    "sorted(zip(X_train.columns,abs(est.feature_importances_)), key=lambda x: -x[1])"
   ]
  },
  {
   "cell_type": "code",
   "execution_count": 302,
   "metadata": {},
   "outputs": [
    {
     "name": "stdout",
     "output_type": "stream",
     "text": [
      "Model: GBT\n",
      "AUC: 0.67606411128\n",
      "\n"
     ]
    },
    {
     "data": {
      "image/png": "[encoded data removed]",
      "text/plain": [
       "<matplotlib.figure.Figure at 0x118f1ae10>"
      ]
     },
     "metadata": {},
     "output_type": "display_data"
    }
   ],
   "source": [
    "y_score = est.predict_proba(X_test)[:,1]\n",
    "\n",
    "fpr, tpr,_ = roc_curve(y_test, y_score, pos_label = 1)\n",
    "roc_auc = auc(fpr, tpr)\n",
    "\n",
    "print('Model: GBT')\n",
    "print('AUC: ' + str(roc_auc))\n",
    "print(\"\")\n",
    "\n",
    "plt.plot(fpr, tpr)\n",
    "plt.plot([0,1],[0,1], '--')\n",
    "plt.xlabel('FPR')\n",
    "plt.ylabel('TPR')\n",
    "plt.title('GBT')\n",
    "plt.show()"
   ]
  },
  {
   "cell_type": "code",
   "execution_count": 303,
   "metadata": {},
   "outputs": [
    {
     "data": {
      "image/png": "[encoded data removed]",
      "text/plain": [
       "<matplotlib.figure.Figure at 0x11941f128>"
      ]
     },
     "metadata": {},
     "output_type": "display_data"
    }
   ],
   "source": [
    "pr_curve(y_test, y_score)"
   ]
  },
  {
   "cell_type": "code",
   "execution_count": 306,
   "metadata": {},
   "outputs": [
    {
     "name": "stdout",
     "output_type": "stream",
     "text": [
      "logr = 0.6936583950079814\n",
      "(0.69365839500798143, 0.69365839500798143, 0.69365839500798143, None)\n"
     ]
    },
    {
     "data": {
      "text/plain": [
       "[('eventid', 8.4245615263937742e-12),\n",
       " ('propvalue', 3.3295955238923179e-17),\n",
       " ('ransomamt', 2.2177070065363441e-18),\n",
       " ('Unnamed: 0', 1.4199976195878768e-18),\n",
       " ('Unnamed: 0.1', 1.2881736143829131e-18),\n",
       " ('reset_index', 1.2881736143829131e-18),\n",
       " ('ransomamtus', 9.6976880588098741e-19),\n",
       " ('ransompaid', 1.3730268552717281e-19),\n",
       " ('iyear', 8.4243148958045885e-20),\n",
       " ('ingroup', 2.4109359584280297e-20),\n",
       " ('ingroup2', 1.9419923885773454e-20),\n",
       " ('count_year_max', 1.3304542471969821e-20),\n",
       " ('count_year_max_unbias', 1.2207641204165488e-20),\n",
       " ('country', 1.1025946405994345e-20),\n",
       " ('perpo', 1.0823463836192962e-20),\n",
       " ('perpo_new', 1.0814285957774354e-20),\n",
       " ('natlty1', 8.1598008917778073e-21),\n",
       " ('current_year_count', 7.9682511907506862e-21),\n",
       " ('countfour', 6.8097538134070597e-21),\n",
       " ('countthree', 6.2535914060754565e-21),\n",
       " ('countone', 6.1622985477154384e-21),\n",
       " ('counttwo', 5.7811967366984863e-21),\n",
       " ('ingroup3', 3.5898454275556567e-21),\n",
       " ('targsubtype1', 1.9623079975139546e-21),\n",
       " ('difftwo', 1.7639558647209327e-21),\n",
       " ('longitude', 1.4143439469838667e-21),\n",
       " ('diffone', 1.3234114730025213e-21),\n",
       " ('current_month_count', 1.2005087017888659e-21),\n",
       " ('ransompaidus', 1.1727092896495923e-21),\n",
       " ('latitude', 9.6382464557657092e-22),\n",
       " ('iday', 6.6778258910494553e-22),\n",
       " ('targtype1', 3.6670510062096479e-22),\n",
       " ('weapsubtype1', 3.2806033419876488e-22),\n",
       " ('ndays', 3.2270055199872523e-22),\n",
       " ('region', 3.1573295304331214e-22),\n",
       " ('weaptype1', 2.6902873691287058e-22),\n",
       " ('imonth', 2.3998383925648874e-22),\n",
       " ('month_alt', 2.3998383925648874e-22),\n",
       " ('targsubtype2', 1.8481257921226351e-22),\n",
       " ('attacktype1', 1.3513499710282576e-22),\n",
       " ('nwound', 1.1579923628773578e-22),\n",
       " ('nperpcap', 1.0175291752568724e-22),\n",
       " ('nkill', 8.7840369470096799e-23),\n",
       " ('nhostkid', 6.3142976818166275e-23),\n",
       " ('nreleased', 5.4610876550931303e-23),\n",
       " ('specificity', 5.4487813517733601e-23),\n",
       " ('compclaim', 4.7846885427538701e-23),\n",
       " ('claimmode', 4.6262210587528643e-23),\n",
       " ('nperps', 4.5256680449723987e-23),\n",
       " ('natlty2', 4.509831634567207e-23),\n",
       " ('crit1', 4.261185420855199e-23),\n",
       " ('crit2', 4.1156513319128591e-23),\n",
       " ('doubtterr', 3.7072309750611614e-23),\n",
       " ('success', 3.6566030790006943e-23),\n",
       " ('crit3', 3.3553229833345299e-23),\n",
       " ('targtype2', 3.2661671141501704e-23),\n",
       " ('claimed', 2.2895992382746522e-23),\n",
       " ('nkillus', 2.0898610233088452e-23),\n",
       " ('targetone', 2.021907048338547e-23),\n",
       " ('natlty3', 1.9626297897187633e-23),\n",
       " ('ransom', 1.8880857659246762e-23),\n",
       " ('hostkidoutcome', 1.6370851911925682e-23),\n",
       " ('INT_ANY', 1.6315031413092182e-23),\n",
       " ('nkillter', 1.6095297266641309e-23),\n",
       " ('targettwo', 1.3377023641151864e-23),\n",
       " ('targetwo_unbias', 1.3377023641151864e-23),\n",
       " ('alternative', 1.0937132804824985e-23),\n",
       " ('multiple', 9.9443893194976033e-24),\n",
       " ('weapsubtype2', 8.8140041457268919e-24),\n",
       " ('attacktype2', 8.3606750158246646e-24),\n",
       " ('INT_IDEO', 8.1011268336743718e-24),\n",
       " ('weaptype2', 7.9334934563396263e-24),\n",
       " ('targetone_unbias', 7.8815317184632256e-24),\n",
       " ('INT_MISC', 7.3312267118960121e-24),\n",
       " ('guncertain1', 4.7514902261785464e-24),\n",
       " ('INT_LOG', 3.8400572000652794e-24),\n",
       " ('ishostkid', 3.5546328437237198e-24),\n",
       " ('targsubtype3', 2.5168356108906978e-24),\n",
       " ('vicinity', 2.4513433028238368e-24),\n",
       " ('nhostkidus', 2.3698960056240634e-24),\n",
       " ('nhours', 2.3027081508035756e-24),\n",
       " ('propextent', 2.287081194030983e-24),\n",
       " ('extended', 2.0010621939968676e-24),\n",
       " ('claim2', 1.2540838129544912e-24),\n",
       " ('suicide', 1.2205658837299247e-24),\n",
       " ('property', 1.1110421594087469e-24),\n",
       " ('weaptype3', 1.0418577293103462e-24),\n",
       " ('guncertain2', 7.7224731512960565e-25),\n",
       " ('attacktype3', 7.3773532648279216e-25),\n",
       " ('nwoundus', 6.3886714801784952e-25),\n",
       " ('nwoundte', 5.3981308998116064e-25),\n",
       " ('targtype3', 4.8405836470473053e-25),\n",
       " ('claimmode2', 3.8004686768366502e-25),\n",
       " ('weapsubtype3', 2.9230669916898042e-25),\n",
       " ('guncertain3', 2.3956226803669037e-25),\n",
       " ('claimmode3', 2.2710632724710514e-25),\n",
       " ('weaptype4', 7.9669575778560951e-26),\n",
       " ('claim3', 4.5861781184476982e-26),\n",
       " ('weapsubtype4', 9.6227569890969893e-27)]"
      ]
     },
     "execution_count": 306,
     "metadata": {},
     "output_type": "execute_result"
    }
   ],
   "source": [
    "logr = LogisticRegression(penalty =  'l2', solver = 'liblinear')\n",
    "logr.fit(X_train, y_train)\n",
    "print ('logr = {0}'.format(logr.score(X_test, y_test)))\n",
    "\n",
    "y_predict = logr.predict(X_test)\n",
    "print(precision_recall_fscore_support(y_test,y_predict, average='micro'))\n",
    "\n",
    "sorted(zip(X_train.columns, abs(logr.coef_[0])), key=lambda x: -x[1])"
   ]
  },
  {
   "cell_type": "code",
   "execution_count": 307,
   "metadata": {},
   "outputs": [
    {
     "name": "stdout",
     "output_type": "stream",
     "text": [
      "Model: GBT\n",
      "AUC: 0.860534820044\n",
      "\n"
     ]
    },
    {
     "data": {
      "image/png": "[encoded data removed]",
      "text/plain": [
       "<matplotlib.figure.Figure at 0x11c3d7fd0>"
      ]
     },
     "metadata": {},
     "output_type": "display_data"
    }
   ],
   "source": [
    "y_score = logr.predict_proba(X_test)[:,1]\n",
    "\n",
    "fpr, tpr,_ = roc_curve(y_test, y_score, pos_label = 1)\n",
    "roc_auc = auc(fpr, tpr)\n",
    "\n",
    "print('Model: GBT')\n",
    "print('AUC: ' + str(roc_auc))\n",
    "print(\"\")\n",
    "\n",
    "plt.plot(fpr, tpr)\n",
    "plt.plot([0,1],[0,1], '--')\n",
    "plt.xlabel('FPR')\n",
    "plt.ylabel('TPR')\n",
    "plt.title('GBT')\n",
    "plt.show()"
   ]
  },
  {
   "cell_type": "code",
   "execution_count": 309,
   "metadata": {},
   "outputs": [
    {
     "name": "stdout",
     "output_type": "stream",
     "text": [
      "svcmodel = 0.6936583950079814\n",
      "(0.69365839500798143, 0.69365839500798143, 0.69365839500798143, None)\n"
     ]
    }
   ],
   "source": [
    "svcmodel = SVC()\n",
    "svcmodel.fit(X_train, y_train)\n",
    "print('svcmodel = {0}'.format(svcmodel.score(X_test,y_test)))\n",
    "\n",
    "y_predict = svcmodel.predict(X_test)\n",
    "print(precision_recall_fscore_support(y_test,y_predict, average='micro'))"
   ]
  },
  {
   "cell_type": "markdown",
   "metadata": {},
   "source": [
    "## UNBIASED WITH TEMPERATURE DATA"
   ]
  },
  {
   "cell_type": "code",
   "execution_count": 4,
   "metadata": {
    "collapsed": true
   },
   "outputs": [],
   "source": [
    "df = pd.read_csv('/Users/toni/Desktop/metis/mcnulty/terrorsavechange20.csv')"
   ]
  },
  {
   "cell_type": "code",
   "execution_count": 22,
   "metadata": {
    "collapsed": true
   },
   "outputs": [],
   "source": [
    "X_train = df.drop(['targetoneone','targetonetwo','targettwotwo','targettwoone','targetoneone_unbias','targetonetwo_unbias','targettwotwo_unbias','targettwoone_unbias','targetoneone_unbias_year','targetonetwo_unbias_year','targettwotwo_unbias_year','targettwoone_unbias_year'], axis = 1)[(df.iyear < 2010) & (df.iyear > 1990)]\n",
    "X_test = df.drop(['targetoneone','targetonetwo','targettwotwo','targettwoone','targetoneone_unbias','targetonetwo_unbias','targettwotwo_unbias','targettwoone_unbias'], axis = 1)[df.iyear >= 2010]\n",
    "y_train = df[(df.iyear < 2010) & (df.iyear > 1990)]['targettwotwo_unbias_year']\n",
    "y_test =  df[df.iyear >= 2010]['targetoneone_unbias']"
   ]
  },
  {
   "cell_type": "code",
   "execution_count": 24,
   "metadata": {},
   "outputs": [
    {
     "data": {
      "text/plain": [
       "0.0    20146\n",
       "Name: targettwotwo_unbias_year, dtype: int64"
      ]
     },
     "execution_count": 24,
     "metadata": {},
     "output_type": "execute_result"
    }
   ],
   "source": [
    "y_train.value_counts()"
   ]
  },
  {
   "cell_type": "code",
   "execution_count": null,
   "metadata": {},
   "outputs": [],
   "source": [
    "est = GradientBoostingClassifier(n_estimators=500).fit(X_train, y_train)\n",
    "print( 'gbc = {0}'.format(est.score(X_test, y_test)))\n",
    "\n",
    "y_predict = est.predict(X_test)\n",
    "print (precision_recall_fscore_support(y_test,y_predict, average='micro'))\n",
    "\n",
    "sorted(zip(X_train.columns,abs(est.feature_importances_)), key=lambda x: -x[1])"
   ]
  },
  {
   "cell_type": "code",
   "execution_count": null,
   "metadata": {
    "collapsed": true
   },
   "outputs": [],
   "source": [
    "y_score = est.predict_proba(X_test)[:,1]\n",
    "\n",
    "fpr, tpr,_ = roc_curve(y_test, y_score, pos_label = 1)\n",
    "roc_auc = auc(fpr, tpr)\n",
    "\n",
    "print('Model: GBT')\n",
    "print('AUC: ' + str(roc_auc))\n",
    "print(\"\")\n",
    "\n",
    "plt.plot(fpr, tpr)\n",
    "plt.plot([0,1],[0,1], '--')\n",
    "plt.xlabel('FPR')\n",
    "plt.ylabel('TPR')\n",
    "plt.title('GBT')\n",
    "plt.show()"
   ]
  },
  {
   "cell_type": "code",
   "execution_count": null,
   "metadata": {
    "collapsed": true
   },
   "outputs": [],
   "source": [
    "pr_curve(y_test, y_score)"
   ]
  },
  {
   "cell_type": "code",
   "execution_count": null,
   "metadata": {
    "collapsed": true
   },
   "outputs": [],
   "source": [
    "logr = LogisticRegression(penalty =  'l2', solver = 'liblinear')\n",
    "logr.fit(X_train, y_train)\n",
    "print ('logr = {0}'.format(logr.score(X_test, y_test)))\n",
    "\n",
    "y_predict = logr.predict(X_test)\n",
    "print(precision_recall_fscore_support(y_test,y_predict, average='micro'))\n",
    "\n",
    "sorted(zip(X_train.columns, abs(logr.coef_[0])), key=lambda x: -x[1])"
   ]
  },
  {
   "cell_type": "code",
   "execution_count": null,
   "metadata": {
    "collapsed": true
   },
   "outputs": [],
   "source": [
    "y_score = logr.predict_proba(X_test)[:,1]\n",
    "\n",
    "fpr, tpr,_ = roc_curve(y_test, y_score, pos_label = 1)\n",
    "roc_auc = auc(fpr, tpr)\n",
    "\n",
    "print('Model: GBT')\n",
    "print('AUC: ' + str(roc_auc))\n",
    "print(\"\")\n",
    "\n",
    "plt.plot(fpr, tpr)\n",
    "plt.plot([0,1],[0,1], '--')\n",
    "plt.xlabel('FPR')\n",
    "plt.ylabel('TPR')\n",
    "plt.title('GBT')\n",
    "plt.show()"
   ]
  },
  {
   "cell_type": "code",
   "execution_count": null,
   "metadata": {
    "collapsed": true
   },
   "outputs": [],
   "source": [
    "pr_curve(y_test, y_score)"
   ]
  },
  {
   "cell_type": "code",
   "execution_count": null,
   "metadata": {
    "collapsed": true
   },
   "outputs": [],
   "source": [
    "svcmodel = SVC()\n",
    "svcmodel.fit(X_train, y_train)\n",
    "print('svcmodel = {0}'.format(svcmodel.score(X_test,y_test)))\n",
    "\n",
    "y_predict = svcmodel.predict(X_test)\n",
    "print(precision_recall_fscore_support(y_test,y_predict, average='micro'))"
   ]
  },
  {
   "cell_type": "code",
   "execution_count": null,
   "metadata": {},
   "outputs": [],
   "source": [
    "knn = KNeighborsClassifier()\n",
    "knn.fit(X_train, y_train)\n",
    "\n",
    "print('knn = {0}'.format(knn.score(X_test,y_test)))\n",
    "\n",
    "y_predict = knn.predict(X_test)\n",
    "print(precision_recall_fscore_support(y_test,y_predict, average='micro'))"
   ]
  },
  {
   "cell_type": "code",
   "execution_count": null,
   "metadata": {
    "collapsed": true
   },
   "outputs": [],
   "source": [
    "y_score = logr.predict_proba(X_test)[:,1]\n",
    "\n",
    "fpr, tpr,_ = roc_curve(y_test, y_score, pos_label = 1)\n",
    "roc_auc = auc(fpr, tpr)\n",
    "\n",
    "print('Model: GBT')\n",
    "print('AUC: ' + str(roc_auc))\n",
    "print(\"\")\n",
    "\n",
    "plt.plot(fpr, tpr)\n",
    "plt.plot([0,1],[0,1], '--')\n",
    "plt.xlabel('FPR')\n",
    "plt.ylabel('TPR')\n",
    "plt.title('GBT')\n",
    "plt.show()"
   ]
  },
  {
   "cell_type": "code",
   "execution_count": null,
   "metadata": {
    "collapsed": true
   },
   "outputs": [],
   "source": [
    "pr_curve(y_test, y_score)"
   ]
  }
 ],
 "metadata": {
  "kernelspec": {
   "display_name": "Python 3",
   "language": "python",
   "name": "python3"
  },
  "language_info": {
   "codemirror_mode": {
    "name": "ipython",
    "version": 3
   },
   "file_extension": ".py",
   "mimetype": "text/x-python",
   "name": "python",
   "nbconvert_exporter": "python",
   "pygments_lexer": "ipython3",
   "version": "3.6.0"
  }
 },
 "nbformat": 4,
 "nbformat_minor": 2
}
