{
 "cells": [
  {
   "cell_type": "markdown",
   "metadata": {},
   "source": [
    "### In this notebook, I engineer several features in order to model predictions for whether countries will endure a spike in terrorism in two years.\n",
    "\n",
    "I 'shift' time-sensitive features so that past data is included in each row.  \n",
    "\n",
    "The features I 'shift' from past to present depict the average-temperature/year and terrorist-activity/year for each country. Each observation (terrorist incident at a given point in time) will now have features that describe the state of the country's average-temperature and terrorist-activity from a couple years back.\n",
    "  \n",
    "I also 'shift' the terrorist-activity/year from future rows into the current row in order to create target variables for my model. Each observation (terrorist incident at a given point in time) will now have a feature that describes the terrorist activity for the country a couple years into the future.  \n",
    "  \n",
    "\"Terrorist activity\" for a given country refers to the number of people who participated in terrorist incidents from that country in a given year.  \n",
    "\n",
    "I use this metric to determine if 'terrorist activity' in a given country has increased or not in a given year. Increases are denoted as 1, no increases are denoted as 0. My target variable is this \"spike\" feature for a country two years down the road."
   ]
  },
  {
   "cell_type": "code",
   "execution_count": 36,
   "metadata": {
    "collapsed": true
   },
   "outputs": [],
   "source": [
    "import pandas as pd"
   ]
  },
  {
   "cell_type": "code",
   "execution_count": 6,
   "metadata": {},
   "outputs": [
    {
     "data": {
      "text/plain": [
       "(68141,)"
      ]
     },
     "execution_count": 6,
     "metadata": {},
     "output_type": "execute_result"
    }
   ],
   "source": [
    "df = pd.read_csv('/home/ubuntu/.jupyter/Notebooks/terrorsave.csv')\n",
    "count_year_max_unbias = df.apply(lambda row: df[(df.iyear <= row.iyear) & (df.perpo_new == row.perpo_new)].current_year_count.max(), axis = 1)\n",
    "count_year_max_unbias.shape"
   ]
  },
  {
   "cell_type": "code",
   "execution_count": 7,
   "metadata": {},
   "outputs": [
    {
     "data": {
      "text/plain": [
       "(68141, 162)"
      ]
     },
     "execution_count": 7,
     "metadata": {},
     "output_type": "execute_result"
    }
   ],
   "source": [
    "df.shape"
   ]
  },
  {
   "cell_type": "code",
   "execution_count": 8,
   "metadata": {
    "collapsed": true
   },
   "outputs": [],
   "source": [
    "df['count_year_max_unbias'] = count_year_max_unbias"
   ]
  },
  {
   "cell_type": "code",
   "execution_count": 11,
   "metadata": {
    "collapsed": true
   },
   "outputs": [],
   "source": [
    "def shift_temp(row, num):\n",
    "    try:\n",
    "        return df[(df.iyear == row.iyear - num) & (df.perpo_new == row.perpo_new)].avgtemp.iloc[0]\n",
    "    except:\n",
    "        return np.nan"
   ]
  },
  {
   "cell_type": "code",
   "execution_count": 20,
   "metadata": {
    "collapsed": true
   },
   "outputs": [],
   "source": [
    "df['tempone'] = df.apply(lambda x: shift_temp(x, 1), axis =1)\n",
    "df['temptwo'] = df.apply(lambda x: shift_temp(x, 2), axis =1)\n",
    "df['tempthree'] = df.apply(lambda x: shift_temp(x, 3), axis =1)\n",
    "df['tempfour'] = df.apply(lambda x: shift_temp(x, 4), axis =1)"
   ]
  },
  {
   "cell_type": "code",
   "execution_count": 22,
   "metadata": {
    "collapsed": true
   },
   "outputs": [],
   "source": [
    "# df[['avgtemp','tempone','iyear','perpo_new']].sort(['perpo_new','iyear'])"
   ]
  },
  {
   "cell_type": "code",
   "execution_count": 21,
   "metadata": {},
   "outputs": [
    {
     "name": "stdout",
     "output_type": "stream",
     "text": [
      "9719\n",
      "4382\n",
      "5409\n",
      "6968\n"
     ]
    }
   ],
   "source": [
    "print(df.tempone.isnull().sum())\n",
    "print(df.temptwo.isnull().sum())\n",
    "print(df.tempthree.isnull().sum())\n",
    "print(df.tempfour.isnull().sum())"
   ]
  },
  {
   "cell_type": "code",
   "execution_count": 25,
   "metadata": {
    "collapsed": true
   },
   "outputs": [],
   "source": [
    "df['tempdiffone'] = df.avgtemp - df.tempone\n",
    "df['tempdifftwo'] = df.avgtemp - df.temptwo\n",
    "df['tempdiffthree'] = df.avgtemp - df.tempthree\n",
    "df['tempdifffour'] = df.avgtemp - df.tempfour"
   ]
  },
  {
   "cell_type": "code",
   "execution_count": 62,
   "metadata": {
    "collapsed": true
   },
   "outputs": [],
   "source": [
    "def t_year(y, x):\n",
    "    try:\n",
    "        if y/5 <= x:\n",
    "            return 1\n",
    "        else:\n",
    "            return 0\n",
    "    except:\n",
    "        return np.nan\n",
    "\n",
    "def t_20(x):\n",
    "    try:\n",
    "        if 20 <= x:\n",
    "            return 1\n",
    "        else:\n",
    "            return 0\n",
    "    except:\n",
    "        return np.nan"
   ]
  },
  {
   "cell_type": "code",
   "execution_count": 65,
   "metadata": {
    "collapsed": true
   },
   "outputs": [],
   "source": [
    "df['t1_year'] = df.apply(lambda row: t_year(row.count_year_max_unbias, row.diffone), axis = 1)\n",
    "df['t2_year'] = df.apply(lambda row: t_year(row.count_year_max_unbias, row.difftwo), axis = 1)\n",
    "df['t1_20'] = df.diffone.map(lambda x: t_20(x))\n",
    "df['t2_20'] = df.difftwo.map(lambda x: t_20(x))"
   ]
  },
  {
   "cell_type": "code",
   "execution_count": 67,
   "metadata": {
    "collapsed": true
   },
   "outputs": [],
   "source": [
    "def t1_year_f(row, num):\n",
    "    try:\n",
    "        return df[(df.iyear == row.iyear + num) & (df.perpo_new == row.perpo_new)].t1_year.iloc[0]\n",
    "    except:\n",
    "        return np.nan\n",
    "    \n",
    "def t2_year_f(row, num):\n",
    "    try:\n",
    "        return df[(df.iyear == row.iyear + num) & (df.perpo_new == row.perpo_new)].t2_year.iloc[0]\n",
    "    except:\n",
    "        return np.nan\n",
    "    \n",
    "def t1_20_f(row, num):\n",
    "    try:\n",
    "        return df[(df.iyear == row.iyear + num) & (df.perpo_new == row.perpo_new)].t1_20.iloc[0]\n",
    "    except:\n",
    "        return np.nan\n",
    "\n",
    "def t2_20_f(row, num):\n",
    "    try:\n",
    "        return df[(df.iyear == row.iyear + num) & (df.perpo_new == row.perpo_new)].t2_20.iloc[0]\n",
    "    except:\n",
    "        return np.nan"
   ]
  },
  {
   "cell_type": "code",
   "execution_count": 68,
   "metadata": {
    "collapsed": true
   },
   "outputs": [],
   "source": [
    "df['t1_year_f1'] = df.apply(lambda row: t1_year_f(row, 1), axis = 1)\n",
    "df['t2_year_f1'] = df.apply(lambda row: t2_year_f(row, 1), axis = 1)\n",
    "\n",
    "df['t1_year_f2'] = df.apply(lambda row: t1_year_f(row, 2), axis = 1)\n",
    "df['t2_year_f2'] = df.apply(lambda row: t2_year_f(row, 2), axis = 1)\n",
    "\n",
    "df['t1_year_f1'] = df.apply(lambda row: t1_year_f(row, 1), axis = 1)\n",
    "df['t2_year_f1'] = df.apply(lambda row: t2_year_f(row, 1), axis = 1)\n",
    "df['t1_20_f1'] = df.apply(lambda row: t1_20_f(row, 1), axis = 1)\n",
    "df['t2_20_f1'] = df.apply(lambda row: t2_20_f(row, 1), axis = 1)\n",
    "\n",
    "df['t1_year_f2'] = df.apply(lambda row: t1_year_f(row, 2), axis = 1)\n",
    "df['t2_year_f2'] = df.apply(lambda row: t2_year_f(row, 2), axis = 1)\n",
    "df['t1_20_f2'] = df.apply(lambda row: t1_20_f(row, 2), axis = 1)\n",
    "df['t2_20_f2'] = df.apply(lambda row: t2_20_f(row, 2), axis = 1)"
   ]
  },
  {
   "cell_type": "code",
   "execution_count": 70,
   "metadata": {},
   "outputs": [
    {
     "name": "stdout",
     "output_type": "stream",
     "text": [
      "0.0    43820\n",
      "1.0    14839\n",
      "Name: t1_year_f1, dtype: int64\n",
      "0.0    34681\n",
      "1.0    23978\n",
      "Name: t2_year_f1, dtype: int64\n",
      "0.0    39961\n",
      "1.0    18698\n",
      "Name: t1_20_f1, dtype: int64\n",
      "0.0    30694\n",
      "1.0    27965\n",
      "Name: t2_20_f1, dtype: int64\n",
      "0.0    39706\n",
      "1.0    12899\n",
      "Name: t1_year_f2, dtype: int64\n",
      "0.0    38149\n",
      "1.0    14456\n",
      "Name: t2_year_f2, dtype: int64\n",
      "0.0    35907\n",
      "1.0    16698\n",
      "Name: t1_20_f2, dtype: int64\n",
      "0.0    35484\n",
      "1.0    17121\n",
      "Name: t2_20_f2, dtype: int64\n"
     ]
    }
   ],
   "source": [
    "print(df.t1_year_f1.value_counts())\n",
    "print(df.t2_year_f1.value_counts())\n",
    "print(df.t1_20_f1.value_counts())\n",
    "print(df.t2_20_f1.value_counts())\n",
    "\n",
    "print(df.t1_year_f2.value_counts())\n",
    "print(df.t2_year_f2.value_counts())\n",
    "print(df.t1_20_f2.value_counts())\n",
    "print(df.t2_20_f2.value_counts())"
   ]
  }
 ],
 "metadata": {
  "kernelspec": {
   "display_name": "Python 3",
   "language": "python",
   "name": "python3"
  },
  "language_info": {
   "codemirror_mode": {
    "name": "ipython",
    "version": 3
   },
   "file_extension": ".py",
   "mimetype": "text/x-python",
   "name": "python",
   "nbconvert_exporter": "python",
   "pygments_lexer": "ipython3",
   "version": "3.6.0"
  }
 },
 "nbformat": 4,
 "nbformat_minor": 2
}
